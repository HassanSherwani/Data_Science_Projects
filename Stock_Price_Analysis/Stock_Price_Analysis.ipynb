{
 "cells": [
  {
   "cell_type": "markdown",
   "metadata": {},
   "source": [
    "# 1-Stock Price Analysis"
   ]
  },
  {
   "cell_type": "code",
   "execution_count": 1,
   "metadata": {},
   "outputs": [],
   "source": [
    "import numpy as np\n",
    "import pandas as pd\n",
    "import pandas_datareader as pdr\n",
    "import matplotlib.pyplot as plt\n",
    "%matplotlib inline"
   ]
  },
  {
   "cell_type": "markdown",
   "metadata": {},
   "source": [
    "## Importing data from yahoo"
   ]
  },
  {
   "cell_type": "code",
   "execution_count": 2,
   "metadata": {},
   "outputs": [
    {
     "data": {
      "text/html": [
       "<div>\n",
       "<style scoped>\n",
       "    .dataframe tbody tr th:only-of-type {\n",
       "        vertical-align: middle;\n",
       "    }\n",
       "\n",
       "    .dataframe tbody tr th {\n",
       "        vertical-align: top;\n",
       "    }\n",
       "\n",
       "    .dataframe thead th {\n",
       "        text-align: right;\n",
       "    }\n",
       "</style>\n",
       "<table border=\"1\" class=\"dataframe\">\n",
       "  <thead>\n",
       "    <tr style=\"text-align: right;\">\n",
       "      <th></th>\n",
       "      <th>High</th>\n",
       "      <th>Low</th>\n",
       "      <th>Open</th>\n",
       "      <th>Close</th>\n",
       "      <th>Volume</th>\n",
       "      <th>Adj Close</th>\n",
       "    </tr>\n",
       "    <tr>\n",
       "      <th>Date</th>\n",
       "      <th></th>\n",
       "      <th></th>\n",
       "      <th></th>\n",
       "      <th></th>\n",
       "      <th></th>\n",
       "      <th></th>\n",
       "    </tr>\n",
       "  </thead>\n",
       "  <tbody>\n",
       "    <tr>\n",
       "      <th>2016-11-08</th>\n",
       "      <td>123.089996</td>\n",
       "      <td>121.360001</td>\n",
       "      <td>122.120003</td>\n",
       "      <td>121.639999</td>\n",
       "      <td>9173700</td>\n",
       "      <td>121.639999</td>\n",
       "    </tr>\n",
       "    <tr>\n",
       "      <th>2016-11-09</th>\n",
       "      <td>124.349998</td>\n",
       "      <td>121.110001</td>\n",
       "      <td>124.300003</td>\n",
       "      <td>121.559998</td>\n",
       "      <td>18236500</td>\n",
       "      <td>121.559998</td>\n",
       "    </tr>\n",
       "    <tr>\n",
       "      <th>2016-11-10</th>\n",
       "      <td>121.540001</td>\n",
       "      <td>119.379997</td>\n",
       "      <td>121.519997</td>\n",
       "      <td>119.750000</td>\n",
       "      <td>22268000</td>\n",
       "      <td>119.750000</td>\n",
       "    </tr>\n",
       "    <tr>\n",
       "      <th>2016-11-11</th>\n",
       "      <td>119.690002</td>\n",
       "      <td>116.230003</td>\n",
       "      <td>119.650002</td>\n",
       "      <td>117.099998</td>\n",
       "      <td>20381800</td>\n",
       "      <td>117.099998</td>\n",
       "    </tr>\n",
       "    <tr>\n",
       "      <th>2016-11-14</th>\n",
       "      <td>117.139999</td>\n",
       "      <td>115.489998</td>\n",
       "      <td>116.120003</td>\n",
       "      <td>116.110001</td>\n",
       "      <td>20431800</td>\n",
       "      <td>116.110001</td>\n",
       "    </tr>\n",
       "  </tbody>\n",
       "</table>\n",
       "</div>"
      ],
      "text/plain": [
       "                  High         Low        Open       Close    Volume  \\\n",
       "Date                                                                   \n",
       "2016-11-08  123.089996  121.360001  122.120003  121.639999   9173700   \n",
       "2016-11-09  124.349998  121.110001  124.300003  121.559998  18236500   \n",
       "2016-11-10  121.540001  119.379997  121.519997  119.750000  22268000   \n",
       "2016-11-11  119.690002  116.230003  119.650002  117.099998  20381800   \n",
       "2016-11-14  117.139999  115.489998  116.120003  116.110001  20431800   \n",
       "\n",
       "             Adj Close  \n",
       "Date                    \n",
       "2016-11-08  121.639999  \n",
       "2016-11-09  121.559998  \n",
       "2016-11-10  119.750000  \n",
       "2016-11-11  117.099998  \n",
       "2016-11-14  116.110001  "
      ]
     },
     "execution_count": 2,
     "metadata": {},
     "output_type": "execute_result"
    }
   ],
   "source": [
    "df = pdr.get_data_yahoo('GLD', '2016-11-08')\n",
    "df.head()"
   ]
  },
  {
   "cell_type": "markdown",
   "metadata": {},
   "source": [
    "## Discard unneeded data"
   ]
  },
  {
   "cell_type": "code",
   "execution_count": 3,
   "metadata": {},
   "outputs": [],
   "source": [
    "df_close = pd.DataFrame(df.Close)"
   ]
  },
  {
   "cell_type": "markdown",
   "metadata": {},
   "source": [
    "##  Rolling method to compute moving averages"
   ]
  },
  {
   "cell_type": "code",
   "execution_count": 4,
   "metadata": {},
   "outputs": [],
   "source": [
    "df_close['MA_9'] = df_close.Close.rolling(9).mean().shift()\n",
    "df_close['MA_21'] = df_close.Close.rolling(21).mean()"
   ]
  },
  {
   "cell_type": "code",
   "execution_count": 5,
   "metadata": {},
   "outputs": [
    {
     "data": {
      "text/html": [
       "<div>\n",
       "<style scoped>\n",
       "    .dataframe tbody tr th:only-of-type {\n",
       "        vertical-align: middle;\n",
       "    }\n",
       "\n",
       "    .dataframe tbody tr th {\n",
       "        vertical-align: top;\n",
       "    }\n",
       "\n",
       "    .dataframe thead th {\n",
       "        text-align: right;\n",
       "    }\n",
       "</style>\n",
       "<table border=\"1\" class=\"dataframe\">\n",
       "  <thead>\n",
       "    <tr style=\"text-align: right;\">\n",
       "      <th></th>\n",
       "      <th>Close</th>\n",
       "      <th>MA_9</th>\n",
       "      <th>MA_21</th>\n",
       "    </tr>\n",
       "    <tr>\n",
       "      <th>Date</th>\n",
       "      <th></th>\n",
       "      <th></th>\n",
       "      <th></th>\n",
       "    </tr>\n",
       "  </thead>\n",
       "  <tbody>\n",
       "    <tr>\n",
       "      <th>2016-11-08</th>\n",
       "      <td>121.639999</td>\n",
       "      <td>NaN</td>\n",
       "      <td>NaN</td>\n",
       "    </tr>\n",
       "    <tr>\n",
       "      <th>2016-11-09</th>\n",
       "      <td>121.559998</td>\n",
       "      <td>NaN</td>\n",
       "      <td>NaN</td>\n",
       "    </tr>\n",
       "    <tr>\n",
       "      <th>2016-11-10</th>\n",
       "      <td>119.750000</td>\n",
       "      <td>NaN</td>\n",
       "      <td>NaN</td>\n",
       "    </tr>\n",
       "    <tr>\n",
       "      <th>2016-11-11</th>\n",
       "      <td>117.099998</td>\n",
       "      <td>NaN</td>\n",
       "      <td>NaN</td>\n",
       "    </tr>\n",
       "    <tr>\n",
       "      <th>2016-11-14</th>\n",
       "      <td>116.110001</td>\n",
       "      <td>NaN</td>\n",
       "      <td>NaN</td>\n",
       "    </tr>\n",
       "  </tbody>\n",
       "</table>\n",
       "</div>"
      ],
      "text/plain": [
       "                 Close  MA_9  MA_21\n",
       "Date                               \n",
       "2016-11-08  121.639999   NaN    NaN\n",
       "2016-11-09  121.559998   NaN    NaN\n",
       "2016-11-10  119.750000   NaN    NaN\n",
       "2016-11-11  117.099998   NaN    NaN\n",
       "2016-11-14  116.110001   NaN    NaN"
      ]
     },
     "execution_count": 5,
     "metadata": {},
     "output_type": "execute_result"
    }
   ],
   "source": [
    "df_close.head()"
   ]
  },
  {
   "cell_type": "code",
   "execution_count": 6,
   "metadata": {},
   "outputs": [
    {
     "data": {
      "text/plain": [
       "(561, 6)"
      ]
     },
     "execution_count": 6,
     "metadata": {},
     "output_type": "execute_result"
    }
   ],
   "source": [
    "df.shape"
   ]
  },
  {
   "cell_type": "code",
   "execution_count": 7,
   "metadata": {},
   "outputs": [
    {
     "name": "stdout",
     "output_type": "stream",
     "text": [
      "<class 'pandas.core.frame.DataFrame'>\n",
      "DatetimeIndex: 561 entries, 2016-11-08 to 2019-02-01\n",
      "Data columns (total 6 columns):\n",
      "High         561 non-null float64\n",
      "Low          561 non-null float64\n",
      "Open         561 non-null float64\n",
      "Close        561 non-null float64\n",
      "Volume       561 non-null int64\n",
      "Adj Close    561 non-null float64\n",
      "dtypes: float64(5), int64(1)\n",
      "memory usage: 30.7 KB\n"
     ]
    }
   ],
   "source": [
    "df.info()"
   ]
  },
  {
   "cell_type": "code",
   "execution_count": 8,
   "metadata": {},
   "outputs": [
    {
     "data": {
      "text/plain": [
       "Date\n",
       "2016-11-08           NaN\n",
       "2016-11-09           NaN\n",
       "2016-11-10           NaN\n",
       "2016-11-11           NaN\n",
       "2016-11-14           NaN\n",
       "2016-11-15           NaN\n",
       "2016-11-16           NaN\n",
       "2016-11-17           NaN\n",
       "2016-11-18           NaN\n",
       "2016-11-21    117.929999\n",
       "2016-11-22    117.256666\n",
       "2016-11-23    116.587778\n",
       "2016-11-25    115.865556\n",
       "2016-11-28    115.366667\n",
       "2016-11-29    115.110001\n",
       "Name: MA_9, dtype: float64"
      ]
     },
     "execution_count": 8,
     "metadata": {},
     "output_type": "execute_result"
    }
   ],
   "source": [
    "df_close['MA_9'].head(15)"
   ]
  },
  {
   "cell_type": "markdown",
   "metadata": {},
   "source": [
    "# Ploting"
   ]
  },
  {
   "cell_type": "code",
   "execution_count": 9,
   "metadata": {},
   "outputs": [
    {
     "data": {
      "text/plain": [
       "<matplotlib.legend.Legend at 0x29da8d7d0b8>"
      ]
     },
     "execution_count": 9,
     "metadata": {},
     "output_type": "execute_result"
    },
    {
     "data": {
      "image/png": "[encoded data removed]",
      "text/plain": [
       "<Figure size 1080x720 with 1 Axes>"
      ]
     },
     "metadata": {},
     "output_type": "display_data"
    }
   ],
   "source": [
    "plt.figure(figsize=(15,10))\n",
    "plt.grid(True)\n",
    "plt.plot(df_close['Close'],label='GLD')\n",
    "plt.plot(df_close['MA_9'], label='MA 9 day')\n",
    "plt.plot(df_close['MA_21'], label='MA 21 day')\n",
    "plt.legend(loc=2)"
   ]
  },
  {
   "cell_type": "markdown",
   "metadata": {},
   "source": [
    "## Compute log change (instantaneous rate of return)"
   ]
  },
  {
   "cell_type": "code",
   "execution_count": 10,
   "metadata": {},
   "outputs": [],
   "source": [
    "df_close[\"change\"] = np.log(df_close[\"Close\"] / df_close[\"Close\"].shift())"
   ]
  },
  {
   "cell_type": "code",
   "execution_count": 11,
   "metadata": {},
   "outputs": [
    {
     "data": {
      "text/html": [
       "<div>\n",
       "<style scoped>\n",
       "    .dataframe tbody tr th:only-of-type {\n",
       "        vertical-align: middle;\n",
       "    }\n",
       "\n",
       "    .dataframe tbody tr th {\n",
       "        vertical-align: top;\n",
       "    }\n",
       "\n",
       "    .dataframe thead th {\n",
       "        text-align: right;\n",
       "    }\n",
       "</style>\n",
       "<table border=\"1\" class=\"dataframe\">\n",
       "  <thead>\n",
       "    <tr style=\"text-align: right;\">\n",
       "      <th></th>\n",
       "      <th>Close</th>\n",
       "      <th>MA_9</th>\n",
       "      <th>MA_21</th>\n",
       "      <th>change</th>\n",
       "    </tr>\n",
       "    <tr>\n",
       "      <th>Date</th>\n",
       "      <th></th>\n",
       "      <th></th>\n",
       "      <th></th>\n",
       "      <th></th>\n",
       "    </tr>\n",
       "  </thead>\n",
       "  <tbody>\n",
       "    <tr>\n",
       "      <th>2016-11-08</th>\n",
       "      <td>121.639999</td>\n",
       "      <td>NaN</td>\n",
       "      <td>NaN</td>\n",
       "      <td>NaN</td>\n",
       "    </tr>\n",
       "    <tr>\n",
       "      <th>2016-11-09</th>\n",
       "      <td>121.559998</td>\n",
       "      <td>NaN</td>\n",
       "      <td>NaN</td>\n",
       "      <td>-0.000658</td>\n",
       "    </tr>\n",
       "    <tr>\n",
       "      <th>2016-11-10</th>\n",
       "      <td>119.750000</td>\n",
       "      <td>NaN</td>\n",
       "      <td>NaN</td>\n",
       "      <td>-0.015002</td>\n",
       "    </tr>\n",
       "    <tr>\n",
       "      <th>2016-11-11</th>\n",
       "      <td>117.099998</td>\n",
       "      <td>NaN</td>\n",
       "      <td>NaN</td>\n",
       "      <td>-0.022378</td>\n",
       "    </tr>\n",
       "    <tr>\n",
       "      <th>2016-11-14</th>\n",
       "      <td>116.110001</td>\n",
       "      <td>NaN</td>\n",
       "      <td>NaN</td>\n",
       "      <td>-0.008490</td>\n",
       "    </tr>\n",
       "  </tbody>\n",
       "</table>\n",
       "</div>"
      ],
      "text/plain": [
       "                 Close  MA_9  MA_21    change\n",
       "Date                                         \n",
       "2016-11-08  121.639999   NaN    NaN       NaN\n",
       "2016-11-09  121.559998   NaN    NaN -0.000658\n",
       "2016-11-10  119.750000   NaN    NaN -0.015002\n",
       "2016-11-11  117.099998   NaN    NaN -0.022378\n",
       "2016-11-14  116.110001   NaN    NaN -0.008490"
      ]
     },
     "execution_count": 11,
     "metadata": {},
     "output_type": "execute_result"
    }
   ],
   "source": [
    "df_close.head()"
   ]
  },
  {
   "cell_type": "markdown",
   "metadata": {},
   "source": [
    "## Plot"
   ]
  },
  {
   "cell_type": "code",
   "execution_count": 12,
   "metadata": {},
   "outputs": [
    {
     "data": {
      "text/plain": [
       "[<matplotlib.lines.Line2D at 0x29daaed3ef0>]"
      ]
     },
     "execution_count": 12,
     "metadata": {},
     "output_type": "execute_result"
    },
    {
     "data": {
      "image/png": "[encoded data removed]",
      "text/plain": [
       "<Figure size 432x288 with 1 Axes>"
      ]
     },
     "metadata": {},
     "output_type": "display_data"
    }
   ],
   "source": [
    "plt.plot(df_close.change)"
   ]
  },
  {
   "cell_type": "markdown",
   "metadata": {},
   "source": [
    "**Plot reveals noisy data centered around 0**"
   ]
  },
  {
   "cell_type": "markdown",
   "metadata": {},
   "source": [
    "## Compute rolling historical volatility, offset using .shift() method"
   ]
  },
  {
   "cell_type": "code",
   "execution_count": 13,
   "metadata": {},
   "outputs": [],
   "source": [
    "df_close['Volatility'] = df_close.change.rolling(21).std().shift()\n"
   ]
  },
  {
   "cell_type": "code",
   "execution_count": 14,
   "metadata": {},
   "outputs": [
    {
     "data": {
      "text/html": [
       "<div>\n",
       "<style scoped>\n",
       "    .dataframe tbody tr th:only-of-type {\n",
       "        vertical-align: middle;\n",
       "    }\n",
       "\n",
       "    .dataframe tbody tr th {\n",
       "        vertical-align: top;\n",
       "    }\n",
       "\n",
       "    .dataframe thead th {\n",
       "        text-align: right;\n",
       "    }\n",
       "</style>\n",
       "<table border=\"1\" class=\"dataframe\">\n",
       "  <thead>\n",
       "    <tr style=\"text-align: right;\">\n",
       "      <th></th>\n",
       "      <th>Close</th>\n",
       "      <th>MA_9</th>\n",
       "      <th>MA_21</th>\n",
       "      <th>change</th>\n",
       "      <th>Volatility</th>\n",
       "    </tr>\n",
       "    <tr>\n",
       "      <th>Date</th>\n",
       "      <th></th>\n",
       "      <th></th>\n",
       "      <th></th>\n",
       "      <th></th>\n",
       "      <th></th>\n",
       "    </tr>\n",
       "  </thead>\n",
       "  <tbody>\n",
       "    <tr>\n",
       "      <th>2016-11-08</th>\n",
       "      <td>121.639999</td>\n",
       "      <td>NaN</td>\n",
       "      <td>NaN</td>\n",
       "      <td>NaN</td>\n",
       "      <td>NaN</td>\n",
       "    </tr>\n",
       "    <tr>\n",
       "      <th>2016-11-09</th>\n",
       "      <td>121.559998</td>\n",
       "      <td>NaN</td>\n",
       "      <td>NaN</td>\n",
       "      <td>-0.000658</td>\n",
       "      <td>NaN</td>\n",
       "    </tr>\n",
       "    <tr>\n",
       "      <th>2016-11-10</th>\n",
       "      <td>119.750000</td>\n",
       "      <td>NaN</td>\n",
       "      <td>NaN</td>\n",
       "      <td>-0.015002</td>\n",
       "      <td>NaN</td>\n",
       "    </tr>\n",
       "    <tr>\n",
       "      <th>2016-11-11</th>\n",
       "      <td>117.099998</td>\n",
       "      <td>NaN</td>\n",
       "      <td>NaN</td>\n",
       "      <td>-0.022378</td>\n",
       "      <td>NaN</td>\n",
       "    </tr>\n",
       "    <tr>\n",
       "      <th>2016-11-14</th>\n",
       "      <td>116.110001</td>\n",
       "      <td>NaN</td>\n",
       "      <td>NaN</td>\n",
       "      <td>-0.008490</td>\n",
       "      <td>NaN</td>\n",
       "    </tr>\n",
       "  </tbody>\n",
       "</table>\n",
       "</div>"
      ],
      "text/plain": [
       "                 Close  MA_9  MA_21    change  Volatility\n",
       "Date                                                     \n",
       "2016-11-08  121.639999   NaN    NaN       NaN         NaN\n",
       "2016-11-09  121.559998   NaN    NaN -0.000658         NaN\n",
       "2016-11-10  119.750000   NaN    NaN -0.015002         NaN\n",
       "2016-11-11  117.099998   NaN    NaN -0.022378         NaN\n",
       "2016-11-14  116.110001   NaN    NaN -0.008490         NaN"
      ]
     },
     "execution_count": 14,
     "metadata": {},
     "output_type": "execute_result"
    }
   ],
   "source": [
    "df_close.head()"
   ]
  },
  {
   "cell_type": "code",
   "execution_count": 15,
   "metadata": {},
   "outputs": [
    {
     "data": {
      "text/plain": [
       "<matplotlib.axes._subplots.AxesSubplot at 0x29dab07bb00>"
      ]
     },
     "execution_count": 15,
     "metadata": {},
     "output_type": "execute_result"
    },
    {
     "data": {
      "image/png": "[encoded data removed]",
      "text/plain": [
       "<Figure size 432x288 with 1 Axes>"
      ]
     },
     "metadata": {},
     "output_type": "display_data"
    }
   ],
   "source": [
    "df_close['Volatility'].plot()"
   ]
  },
  {
   "cell_type": "markdown",
   "metadata": {},
   "source": [
    "# 2-Price analysis"
   ]
  },
  {
   "cell_type": "code",
   "execution_count": 16,
   "metadata": {},
   "outputs": [],
   "source": [
    "#offset expected change 1-day\n",
    "df_close['exp_chng'] = df_close['Volatility'] * df_close['Close'].shift()\n",
    "df_close['actual_chng'] = df_close['Close'] - df_close['Close'].shift()"
   ]
  },
  {
   "cell_type": "code",
   "execution_count": 17,
   "metadata": {},
   "outputs": [
    {
     "data": {
      "text/html": [
       "<div>\n",
       "<style scoped>\n",
       "    .dataframe tbody tr th:only-of-type {\n",
       "        vertical-align: middle;\n",
       "    }\n",
       "\n",
       "    .dataframe tbody tr th {\n",
       "        vertical-align: top;\n",
       "    }\n",
       "\n",
       "    .dataframe thead th {\n",
       "        text-align: right;\n",
       "    }\n",
       "</style>\n",
       "<table border=\"1\" class=\"dataframe\">\n",
       "  <thead>\n",
       "    <tr style=\"text-align: right;\">\n",
       "      <th></th>\n",
       "      <th>Close</th>\n",
       "      <th>MA_9</th>\n",
       "      <th>MA_21</th>\n",
       "      <th>change</th>\n",
       "      <th>Volatility</th>\n",
       "      <th>exp_chng</th>\n",
       "      <th>actual_chng</th>\n",
       "    </tr>\n",
       "    <tr>\n",
       "      <th>Date</th>\n",
       "      <th></th>\n",
       "      <th></th>\n",
       "      <th></th>\n",
       "      <th></th>\n",
       "      <th></th>\n",
       "      <th></th>\n",
       "      <th></th>\n",
       "    </tr>\n",
       "  </thead>\n",
       "  <tbody>\n",
       "    <tr>\n",
       "      <th>2016-11-08</th>\n",
       "      <td>121.639999</td>\n",
       "      <td>NaN</td>\n",
       "      <td>NaN</td>\n",
       "      <td>NaN</td>\n",
       "      <td>NaN</td>\n",
       "      <td>NaN</td>\n",
       "      <td>NaN</td>\n",
       "    </tr>\n",
       "    <tr>\n",
       "      <th>2016-11-09</th>\n",
       "      <td>121.559998</td>\n",
       "      <td>NaN</td>\n",
       "      <td>NaN</td>\n",
       "      <td>-0.000658</td>\n",
       "      <td>NaN</td>\n",
       "      <td>NaN</td>\n",
       "      <td>-0.080002</td>\n",
       "    </tr>\n",
       "    <tr>\n",
       "      <th>2016-11-10</th>\n",
       "      <td>119.750000</td>\n",
       "      <td>NaN</td>\n",
       "      <td>NaN</td>\n",
       "      <td>-0.015002</td>\n",
       "      <td>NaN</td>\n",
       "      <td>NaN</td>\n",
       "      <td>-1.809998</td>\n",
       "    </tr>\n",
       "    <tr>\n",
       "      <th>2016-11-11</th>\n",
       "      <td>117.099998</td>\n",
       "      <td>NaN</td>\n",
       "      <td>NaN</td>\n",
       "      <td>-0.022378</td>\n",
       "      <td>NaN</td>\n",
       "      <td>NaN</td>\n",
       "      <td>-2.650002</td>\n",
       "    </tr>\n",
       "    <tr>\n",
       "      <th>2016-11-14</th>\n",
       "      <td>116.110001</td>\n",
       "      <td>NaN</td>\n",
       "      <td>NaN</td>\n",
       "      <td>-0.008490</td>\n",
       "      <td>NaN</td>\n",
       "      <td>NaN</td>\n",
       "      <td>-0.989998</td>\n",
       "    </tr>\n",
       "  </tbody>\n",
       "</table>\n",
       "</div>"
      ],
      "text/plain": [
       "                 Close  MA_9  MA_21    change  Volatility  exp_chng  \\\n",
       "Date                                                                  \n",
       "2016-11-08  121.639999   NaN    NaN       NaN         NaN       NaN   \n",
       "2016-11-09  121.559998   NaN    NaN -0.000658         NaN       NaN   \n",
       "2016-11-10  119.750000   NaN    NaN -0.015002         NaN       NaN   \n",
       "2016-11-11  117.099998   NaN    NaN -0.022378         NaN       NaN   \n",
       "2016-11-14  116.110001   NaN    NaN -0.008490         NaN       NaN   \n",
       "\n",
       "            actual_chng  \n",
       "Date                     \n",
       "2016-11-08          NaN  \n",
       "2016-11-09    -0.080002  \n",
       "2016-11-10    -1.809998  \n",
       "2016-11-11    -2.650002  \n",
       "2016-11-14    -0.989998  "
      ]
     },
     "execution_count": 17,
     "metadata": {},
     "output_type": "execute_result"
    }
   ],
   "source": [
    "df_close.head()"
   ]
  },
  {
   "cell_type": "code",
   "execution_count": 18,
   "metadata": {},
   "outputs": [],
   "source": [
    "#running more than once will \n",
    "df_close = pd.DataFrame(df_close.iloc[22:])"
   ]
  },
  {
   "cell_type": "code",
   "execution_count": 19,
   "metadata": {},
   "outputs": [],
   "source": [
    "df_close['Magnitude'] = df_close['actual_chng'] / df_close['exp_chng'] "
   ]
  },
  {
   "cell_type": "code",
   "execution_count": 20,
   "metadata": {},
   "outputs": [
    {
     "data": {
      "text/html": [
       "<div>\n",
       "<style scoped>\n",
       "    .dataframe tbody tr th:only-of-type {\n",
       "        vertical-align: middle;\n",
       "    }\n",
       "\n",
       "    .dataframe tbody tr th {\n",
       "        vertical-align: top;\n",
       "    }\n",
       "\n",
       "    .dataframe thead th {\n",
       "        text-align: right;\n",
       "    }\n",
       "</style>\n",
       "<table border=\"1\" class=\"dataframe\">\n",
       "  <thead>\n",
       "    <tr style=\"text-align: right;\">\n",
       "      <th></th>\n",
       "      <th>Close</th>\n",
       "      <th>MA_9</th>\n",
       "      <th>MA_21</th>\n",
       "      <th>change</th>\n",
       "      <th>Volatility</th>\n",
       "      <th>exp_chng</th>\n",
       "      <th>actual_chng</th>\n",
       "      <th>Magnitude</th>\n",
       "    </tr>\n",
       "    <tr>\n",
       "      <th>Date</th>\n",
       "      <th></th>\n",
       "      <th></th>\n",
       "      <th></th>\n",
       "      <th></th>\n",
       "      <th></th>\n",
       "      <th></th>\n",
       "      <th></th>\n",
       "      <th></th>\n",
       "    </tr>\n",
       "  </thead>\n",
       "  <tbody>\n",
       "    <tr>\n",
       "      <th>2016-12-09</th>\n",
       "      <td>110.400002</td>\n",
       "      <td>112.096667</td>\n",
       "      <td>114.020000</td>\n",
       "      <td>-0.010542</td>\n",
       "      <td>0.008582</td>\n",
       "      <td>0.957515</td>\n",
       "      <td>-1.169998</td>\n",
       "      <td>-1.221911</td>\n",
       "    </tr>\n",
       "    <tr>\n",
       "      <th>2016-12-12</th>\n",
       "      <td>110.820000</td>\n",
       "      <td>111.718889</td>\n",
       "      <td>113.594762</td>\n",
       "      <td>0.003797</td>\n",
       "      <td>0.008654</td>\n",
       "      <td>0.955386</td>\n",
       "      <td>0.419998</td>\n",
       "      <td>0.439611</td>\n",
       "    </tr>\n",
       "    <tr>\n",
       "      <th>2016-12-13</th>\n",
       "      <td>110.449997</td>\n",
       "      <td>111.446667</td>\n",
       "      <td>113.278095</td>\n",
       "      <td>-0.003344</td>\n",
       "      <td>0.008493</td>\n",
       "      <td>0.941230</td>\n",
       "      <td>-0.370003</td>\n",
       "      <td>-0.393105</td>\n",
       "    </tr>\n",
       "    <tr>\n",
       "      <th>2016-12-14</th>\n",
       "      <td>108.830002</td>\n",
       "      <td>111.302222</td>\n",
       "      <td>112.931429</td>\n",
       "      <td>-0.014776</td>\n",
       "      <td>0.007336</td>\n",
       "      <td>0.810275</td>\n",
       "      <td>-1.619995</td>\n",
       "      <td>-1.999314</td>\n",
       "    </tr>\n",
       "    <tr>\n",
       "      <th>2016-12-15</th>\n",
       "      <td>107.339996</td>\n",
       "      <td>111.001111</td>\n",
       "      <td>112.465714</td>\n",
       "      <td>-0.013786</td>\n",
       "      <td>0.007700</td>\n",
       "      <td>0.837969</td>\n",
       "      <td>-1.490005</td>\n",
       "      <td>-1.778116</td>\n",
       "    </tr>\n",
       "  </tbody>\n",
       "</table>\n",
       "</div>"
      ],
      "text/plain": [
       "                 Close        MA_9       MA_21    change  Volatility  \\\n",
       "Date                                                                   \n",
       "2016-12-09  110.400002  112.096667  114.020000 -0.010542    0.008582   \n",
       "2016-12-12  110.820000  111.718889  113.594762  0.003797    0.008654   \n",
       "2016-12-13  110.449997  111.446667  113.278095 -0.003344    0.008493   \n",
       "2016-12-14  108.830002  111.302222  112.931429 -0.014776    0.007336   \n",
       "2016-12-15  107.339996  111.001111  112.465714 -0.013786    0.007700   \n",
       "\n",
       "            exp_chng  actual_chng  Magnitude  \n",
       "Date                                          \n",
       "2016-12-09  0.957515    -1.169998  -1.221911  \n",
       "2016-12-12  0.955386     0.419998   0.439611  \n",
       "2016-12-13  0.941230    -0.370003  -0.393105  \n",
       "2016-12-14  0.810275    -1.619995  -1.999314  \n",
       "2016-12-15  0.837969    -1.490005  -1.778116  "
      ]
     },
     "execution_count": 20,
     "metadata": {},
     "output_type": "execute_result"
    }
   ],
   "source": [
    "df_close.head()"
   ]
  },
  {
   "cell_type": "code",
   "execution_count": 21,
   "metadata": {},
   "outputs": [
    {
     "data": {
      "text/html": [
       "<div>\n",
       "<style scoped>\n",
       "    .dataframe tbody tr th:only-of-type {\n",
       "        vertical-align: middle;\n",
       "    }\n",
       "\n",
       "    .dataframe tbody tr th {\n",
       "        vertical-align: top;\n",
       "    }\n",
       "\n",
       "    .dataframe thead th {\n",
       "        text-align: right;\n",
       "    }\n",
       "</style>\n",
       "<table border=\"1\" class=\"dataframe\">\n",
       "  <thead>\n",
       "    <tr style=\"text-align: right;\">\n",
       "      <th></th>\n",
       "      <th>Close</th>\n",
       "      <th>MA_9</th>\n",
       "      <th>MA_21</th>\n",
       "      <th>change</th>\n",
       "      <th>Volatility</th>\n",
       "      <th>exp_chng</th>\n",
       "      <th>actual_chng</th>\n",
       "      <th>Magnitude</th>\n",
       "      <th>abs_magni</th>\n",
       "    </tr>\n",
       "    <tr>\n",
       "      <th>Date</th>\n",
       "      <th></th>\n",
       "      <th></th>\n",
       "      <th></th>\n",
       "      <th></th>\n",
       "      <th></th>\n",
       "      <th></th>\n",
       "      <th></th>\n",
       "      <th></th>\n",
       "      <th></th>\n",
       "    </tr>\n",
       "  </thead>\n",
       "  <tbody>\n",
       "    <tr>\n",
       "      <th>2016-12-09</th>\n",
       "      <td>110.400002</td>\n",
       "      <td>112.096667</td>\n",
       "      <td>114.020000</td>\n",
       "      <td>-0.010542</td>\n",
       "      <td>0.008582</td>\n",
       "      <td>0.957515</td>\n",
       "      <td>-1.169998</td>\n",
       "      <td>-1.221911</td>\n",
       "      <td>1.221911</td>\n",
       "    </tr>\n",
       "    <tr>\n",
       "      <th>2016-12-12</th>\n",
       "      <td>110.820000</td>\n",
       "      <td>111.718889</td>\n",
       "      <td>113.594762</td>\n",
       "      <td>0.003797</td>\n",
       "      <td>0.008654</td>\n",
       "      <td>0.955386</td>\n",
       "      <td>0.419998</td>\n",
       "      <td>0.439611</td>\n",
       "      <td>0.439611</td>\n",
       "    </tr>\n",
       "    <tr>\n",
       "      <th>2016-12-13</th>\n",
       "      <td>110.449997</td>\n",
       "      <td>111.446667</td>\n",
       "      <td>113.278095</td>\n",
       "      <td>-0.003344</td>\n",
       "      <td>0.008493</td>\n",
       "      <td>0.941230</td>\n",
       "      <td>-0.370003</td>\n",
       "      <td>-0.393105</td>\n",
       "      <td>0.393105</td>\n",
       "    </tr>\n",
       "    <tr>\n",
       "      <th>2016-12-14</th>\n",
       "      <td>108.830002</td>\n",
       "      <td>111.302222</td>\n",
       "      <td>112.931429</td>\n",
       "      <td>-0.014776</td>\n",
       "      <td>0.007336</td>\n",
       "      <td>0.810275</td>\n",
       "      <td>-1.619995</td>\n",
       "      <td>-1.999314</td>\n",
       "      <td>1.999314</td>\n",
       "    </tr>\n",
       "    <tr>\n",
       "      <th>2016-12-15</th>\n",
       "      <td>107.339996</td>\n",
       "      <td>111.001111</td>\n",
       "      <td>112.465714</td>\n",
       "      <td>-0.013786</td>\n",
       "      <td>0.007700</td>\n",
       "      <td>0.837969</td>\n",
       "      <td>-1.490005</td>\n",
       "      <td>-1.778116</td>\n",
       "      <td>1.778116</td>\n",
       "    </tr>\n",
       "  </tbody>\n",
       "</table>\n",
       "</div>"
      ],
      "text/plain": [
       "                 Close        MA_9       MA_21    change  Volatility  \\\n",
       "Date                                                                   \n",
       "2016-12-09  110.400002  112.096667  114.020000 -0.010542    0.008582   \n",
       "2016-12-12  110.820000  111.718889  113.594762  0.003797    0.008654   \n",
       "2016-12-13  110.449997  111.446667  113.278095 -0.003344    0.008493   \n",
       "2016-12-14  108.830002  111.302222  112.931429 -0.014776    0.007336   \n",
       "2016-12-15  107.339996  111.001111  112.465714 -0.013786    0.007700   \n",
       "\n",
       "            exp_chng  actual_chng  Magnitude  abs_magni  \n",
       "Date                                                     \n",
       "2016-12-09  0.957515    -1.169998  -1.221911   1.221911  \n",
       "2016-12-12  0.955386     0.419998   0.439611   0.439611  \n",
       "2016-12-13  0.941230    -0.370003  -0.393105   0.393105  \n",
       "2016-12-14  0.810275    -1.619995  -1.999314   1.999314  \n",
       "2016-12-15  0.837969    -1.490005  -1.778116   1.778116  "
      ]
     },
     "execution_count": 21,
     "metadata": {},
     "output_type": "execute_result"
    }
   ],
   "source": [
    "df_close['abs_magni'] = np.abs(df_close['Magnitude'])\n",
    "df_close.head()"
   ]
  },
  {
   "cell_type": "code",
   "execution_count": 22,
   "metadata": {},
   "outputs": [
    {
     "data": {
      "text/plain": [
       "<matplotlib.collections.PathCollection at 0x29dab124b00>"
      ]
     },
     "execution_count": 22,
     "metadata": {},
     "output_type": "execute_result"
    },
    {
     "data": {
      "image/png": "[encoded data removed]",
      "text/plain": [
       "<Figure size 432x288 with 1 Axes>"
      ]
     },
     "metadata": {},
     "output_type": "display_data"
    }
   ],
   "source": [
    "plt.scatter(df_close['actual_chng'], df_close['abs_magni'])"
   ]
  }
 ],
 "metadata": {
  "kernelspec": {
   "display_name": "Python 3",
   "language": "python",
   "name": "python3"
  },
  "language_info": {
   "codemirror_mode": {
    "name": "ipython",
    "version": 3
   },
   "file_extension": ".py",
   "mimetype": "text/x-python",
   "name": "python",
   "nbconvert_exporter": "python",
   "pygments_lexer": "ipython3",
   "version": "3.6.5"
  }
 },
 "nbformat": 4,
 "nbformat_minor": 2
}
