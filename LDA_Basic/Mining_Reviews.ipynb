{
 "cells": [
  {
   "cell_type": "markdown",
   "metadata": {},
   "source": [
    "# Generative Modeling approach for Mining Online Reviews "
   ]
  },
  {
   "cell_type": "markdown",
   "metadata": {},
   "source": [
    "# 1) Importing key modules"
   ]
  },
  {
   "cell_type": "code",
   "execution_count": 1,
   "metadata": {},
   "outputs": [],
   "source": [
    "# Let's be rebels and ignore warnings for now\n",
    "import warnings\n",
    "warnings.filterwarnings('ignore')"
   ]
  },
  {
   "cell_type": "code",
   "execution_count": 2,
   "metadata": {},
   "outputs": [],
   "source": [
    "import nltk\n",
    "from nltk import FreqDist"
   ]
  },
  {
   "cell_type": "code",
   "execution_count": 3,
   "metadata": {},
   "outputs": [],
   "source": [
    "# For processing\n",
    "import pandas as pd\n",
    "import numpy as np\n",
    "import re\n",
    "import spacy\n",
    "# For LDA\n",
    "import gensim\n",
    "from gensim import corpora"
   ]
  },
  {
   "cell_type": "code",
   "execution_count": 22,
   "metadata": {},
   "outputs": [],
   "source": [
    "# libraries for visualization\n",
    "import pyLDAvis\n",
    "import pyLDAvis.gensim\n",
    "import matplotlib.pyplot as plt\n",
    "import seaborn as sns\n",
    "%matplotlib inline"
   ]
  },
  {
   "cell_type": "markdown",
   "metadata": {},
   "source": [
    "# 2) Loading data"
   ]
  },
  {
   "cell_type": "code",
   "execution_count": 5,
   "metadata": {},
   "outputs": [
    {
     "data": {
      "text/html": [
       "<div>\n",
       "<style scoped>\n",
       "    .dataframe tbody tr th:only-of-type {\n",
       "        vertical-align: middle;\n",
       "    }\n",
       "\n",
       "    .dataframe tbody tr th {\n",
       "        vertical-align: top;\n",
       "    }\n",
       "\n",
       "    .dataframe thead th {\n",
       "        text-align: right;\n",
       "    }\n",
       "</style>\n",
       "<table border=\"1\" class=\"dataframe\">\n",
       "  <thead>\n",
       "    <tr style=\"text-align: right;\">\n",
       "      <th></th>\n",
       "      <th>asin</th>\n",
       "      <th>helpful</th>\n",
       "      <th>overall</th>\n",
       "      <th>reviewText</th>\n",
       "      <th>reviewTime</th>\n",
       "      <th>reviewerID</th>\n",
       "      <th>reviewerName</th>\n",
       "      <th>summary</th>\n",
       "      <th>unixReviewTime</th>\n",
       "    </tr>\n",
       "  </thead>\n",
       "  <tbody>\n",
       "    <tr>\n",
       "      <th>0</th>\n",
       "      <td>B00002243X</td>\n",
       "      <td>[4, 4]</td>\n",
       "      <td>5</td>\n",
       "      <td>I needed a set of jumper cables for my new car...</td>\n",
       "      <td>08 17, 2011</td>\n",
       "      <td>A3F73SC1LY51OO</td>\n",
       "      <td>Alan Montgomery</td>\n",
       "      <td>Work Well - Should Have Bought Longer Ones</td>\n",
       "      <td>1313539200</td>\n",
       "    </tr>\n",
       "    <tr>\n",
       "      <th>1</th>\n",
       "      <td>B00002243X</td>\n",
       "      <td>[1, 1]</td>\n",
       "      <td>4</td>\n",
       "      <td>These long cables work fine for my truck, but ...</td>\n",
       "      <td>09 4, 2011</td>\n",
       "      <td>A20S66SKYXULG2</td>\n",
       "      <td>alphonse</td>\n",
       "      <td>Okay long cables</td>\n",
       "      <td>1315094400</td>\n",
       "    </tr>\n",
       "    <tr>\n",
       "      <th>2</th>\n",
       "      <td>B00002243X</td>\n",
       "      <td>[0, 0]</td>\n",
       "      <td>5</td>\n",
       "      <td>Can't comment much on these since they have no...</td>\n",
       "      <td>07 25, 2013</td>\n",
       "      <td>A2I8LFSN2IS5EO</td>\n",
       "      <td>Chris</td>\n",
       "      <td>Looks and feels heavy Duty</td>\n",
       "      <td>1374710400</td>\n",
       "    </tr>\n",
       "    <tr>\n",
       "      <th>3</th>\n",
       "      <td>B00002243X</td>\n",
       "      <td>[19, 19]</td>\n",
       "      <td>5</td>\n",
       "      <td>I absolutley love Amazon!!!  For the price of ...</td>\n",
       "      <td>12 21, 2010</td>\n",
       "      <td>A3GT2EWQSO45ZG</td>\n",
       "      <td>DeusEx</td>\n",
       "      <td>Excellent choice for Jumper Cables!!!</td>\n",
       "      <td>1292889600</td>\n",
       "    </tr>\n",
       "    <tr>\n",
       "      <th>4</th>\n",
       "      <td>B00002243X</td>\n",
       "      <td>[0, 0]</td>\n",
       "      <td>5</td>\n",
       "      <td>I purchased the 12' feet long cable set and th...</td>\n",
       "      <td>07 4, 2012</td>\n",
       "      <td>A3ESWJPAVRPWB4</td>\n",
       "      <td>E. Hernandez</td>\n",
       "      <td>Excellent, High Quality Starter Cables</td>\n",
       "      <td>1341360000</td>\n",
       "    </tr>\n",
       "  </tbody>\n",
       "</table>\n",
       "</div>"
      ],
      "text/plain": [
       "         asin   helpful  overall  \\\n",
       "0  B00002243X    [4, 4]        5   \n",
       "1  B00002243X    [1, 1]        4   \n",
       "2  B00002243X    [0, 0]        5   \n",
       "3  B00002243X  [19, 19]        5   \n",
       "4  B00002243X    [0, 0]        5   \n",
       "\n",
       "                                          reviewText   reviewTime  \\\n",
       "0  I needed a set of jumper cables for my new car...  08 17, 2011   \n",
       "1  These long cables work fine for my truck, but ...   09 4, 2011   \n",
       "2  Can't comment much on these since they have no...  07 25, 2013   \n",
       "3  I absolutley love Amazon!!!  For the price of ...  12 21, 2010   \n",
       "4  I purchased the 12' feet long cable set and th...   07 4, 2012   \n",
       "\n",
       "       reviewerID     reviewerName  \\\n",
       "0  A3F73SC1LY51OO  Alan Montgomery   \n",
       "1  A20S66SKYXULG2         alphonse   \n",
       "2  A2I8LFSN2IS5EO            Chris   \n",
       "3  A3GT2EWQSO45ZG           DeusEx   \n",
       "4  A3ESWJPAVRPWB4     E. Hernandez   \n",
       "\n",
       "                                      summary  unixReviewTime  \n",
       "0  Work Well - Should Have Bought Longer Ones      1313539200  \n",
       "1                            Okay long cables      1315094400  \n",
       "2                  Looks and feels heavy Duty      1374710400  \n",
       "3       Excellent choice for Jumper Cables!!!      1292889600  \n",
       "4      Excellent, High Quality Starter Cables      1341360000  "
      ]
     },
     "execution_count": 5,
     "metadata": {},
     "output_type": "execute_result"
    }
   ],
   "source": [
    "df = pd.read_json('Automotive_5.json', lines=True)\n",
    "df.head()"
   ]
  },
  {
   "cell_type": "markdown",
   "metadata": {},
   "source": [
    "the data contains the following columns:\n",
    "\n",
    "- reviewerID – ID of the reviewer\n",
    "- asin – ID of the product\n",
    "- reviewerName – name of the reviewer\n",
    "- helpful – helpfulness rating of the review, e.g. 2/3\n",
    "- reviewText – text of the review\n",
    "- overall – rating of the product\n",
    "- summary – summary of the review\n",
    "- unixReviewTime – time of the review (unix time)\n",
    "- reviewTime – time of the review (raw)\n",
    "\n",
    "For the scope of our analysis and this article, we will be using only the reviews column, i.e., **reviewText.**"
   ]
  },
  {
   "cell_type": "markdown",
   "metadata": {},
   "source": [
    "# 3)-Data Preprocessing and cleaning"
   ]
  },
  {
   "cell_type": "markdown",
   "metadata": {},
   "source": [
    "### 3.1)- Checking most fequent words"
   ]
  },
  {
   "cell_type": "code",
   "execution_count": 6,
   "metadata": {},
   "outputs": [],
   "source": [
    "# function to plot most frequent terms\n",
    "def freq_words(x, terms = 30):\n",
    "    all_words = ' '.join([text for text in x])\n",
    "    all_words = all_words.split()\n",
    "\n",
    "    fdist = FreqDist(all_words)\n",
    "    words_df = pd.DataFrame({'word':list(fdist.keys()), 'count':list(fdist.values())})\n",
    "\n",
    "  # selecting top 20 most frequent words\n",
    "    d = words_df.nlargest(columns=\"count\", n = terms) \n",
    "    plt.figure(figsize=(20,5))\n",
    "    ax = sns.barplot(data=d, x= \"word\", y = \"count\")\n",
    "    ax.set(ylabel = 'Count')\n",
    "    plt.show()"
   ]
  },
  {
   "cell_type": "code",
   "execution_count": 7,
   "metadata": {},
   "outputs": [
    {
     "data": {
      "image/png": "[encoded data removed]",
      "text/plain": [
       "<matplotlib.figure.Figure at 0x208549be860>"
      ]
     },
     "metadata": {
      "needs_background": "light"
     },
     "output_type": "display_data"
    }
   ],
   "source": [
    "freq_words(df['reviewText'])"
   ]
  },
  {
   "cell_type": "markdown",
   "metadata": {},
   "source": [
    "We can see that there are couple of unwanted words like \"the, and, to, of\" etc. They won't contribute to our analysis. so, we better remove em."
   ]
  },
  {
   "cell_type": "markdown",
   "metadata": {},
   "source": [
    "### 3.2)Remove unwanted characters, numbers and symbols"
   ]
  },
  {
   "cell_type": "code",
   "execution_count": 8,
   "metadata": {},
   "outputs": [],
   "source": [
    "df['reviewText'] = df['reviewText'].str.replace(\"[^a-zA-Z#]\", \" \")"
   ]
  },
  {
   "cell_type": "code",
   "execution_count": 9,
   "metadata": {},
   "outputs": [],
   "source": [
    "from nltk.corpus import stopwords\n",
    "stop_words = stopwords.words('english')"
   ]
  },
  {
   "cell_type": "code",
   "execution_count": 10,
   "metadata": {},
   "outputs": [],
   "source": [
    "# function to remove stopwords\n",
    "def remove_stopwords(rev):\n",
    "    rev_new = \" \".join([i for i in rev if i not in stop_words])\n",
    "    return rev_new\n",
    "\n",
    "# remove short words (length < 3)\n",
    "df['reviewText'] = df['reviewText'].apply(lambda x: ' '.join([w for w in x.split() if len(w)>2]))\n",
    "\n",
    "# remove stopwords from the text\n",
    "reviews = [remove_stopwords(r.split()) for r in df['reviewText']]\n",
    "\n",
    "# make entire text lowercase\n",
    "reviews = [r.lower() for r in reviews]"
   ]
  },
  {
   "cell_type": "code",
   "execution_count": 11,
   "metadata": {},
   "outputs": [
    {
     "data": {
      "image/png": "[encoded data removed]",
      "text/plain": [
       "<matplotlib.figure.Figure at 0x208524ebf28>"
      ]
     },
     "metadata": {
      "needs_background": "light"
     },
     "output_type": "display_data"
    }
   ],
   "source": [
    "freq_words(reviews, 35)"
   ]
  },
  {
   "cell_type": "markdown",
   "metadata": {},
   "source": [
    "### 3.3)-Lemmatization and tokenization"
   ]
  },
  {
   "cell_type": "code",
   "execution_count": 12,
   "metadata": {},
   "outputs": [],
   "source": [
    "nlp = spacy.load('en', disable=['parser', 'ner'])"
   ]
  },
  {
   "cell_type": "code",
   "execution_count": 13,
   "metadata": {},
   "outputs": [],
   "source": [
    "def lemmatization(texts, tags=['NOUN', 'ADJ']): # filter noun and adjective\n",
    "       output = []\n",
    "       for sent in texts:\n",
    "             doc = nlp(\" \".join(sent)) \n",
    "             output.append([token.lemma_ for token in doc if token.pos_ in tags])\n",
    "       return output"
   ]
  },
  {
   "cell_type": "code",
   "execution_count": 14,
   "metadata": {},
   "outputs": [
    {
     "name": "stdout",
     "output_type": "stream",
     "text": [
      "['these', 'long', 'cables', 'work', 'fine', 'truck', 'quality', 'seems', 'little', 'shabby', 'side', 'for', 'money', 'expecting', 'dollar', 'snap', 'jumper', 'cables', 'seem', 'like', 'would', 'see', 'chinese', 'knock', 'shop', 'like', 'harbor', 'freight', 'bucks']\n"
     ]
    }
   ],
   "source": [
    "tokenized_reviews = pd.Series(reviews).apply(lambda x: x.split())\n",
    "print(tokenized_reviews[1])"
   ]
  },
  {
   "cell_type": "code",
   "execution_count": 15,
   "metadata": {},
   "outputs": [
    {
     "name": "stdout",
     "output_type": "stream",
     "text": [
      "['long', 'cable', 'fine', 'truck', 'quality', 'little', 'shabby', 'side', 'money', 'dollar', 'snap', 'jumper', 'cable', 'chinese', 'shop', 'harbor', 'freight', 'buck']\n"
     ]
    }
   ],
   "source": [
    "# check lemmatized review\n",
    "reviews_2 = lemmatization(tokenized_reviews)\n",
    "print(reviews_2[1]) "
   ]
  },
  {
   "cell_type": "code",
   "execution_count": 16,
   "metadata": {},
   "outputs": [
    {
     "data": {
      "image/png": "[encoded data removed]",
      "text/plain": [
       "<matplotlib.figure.Figure at 0x2085e584da0>"
      ]
     },
     "metadata": {
      "needs_background": "light"
     },
     "output_type": "display_data"
    }
   ],
   "source": [
    "reviews_3 = []\n",
    "for i in range(len(reviews_2)):\n",
    "    reviews_3.append(' '.join(reviews_2[i]))\n",
    "\n",
    "df['reviews'] = reviews_3\n",
    "\n",
    "freq_words(df['reviews'], 35)"
   ]
  },
  {
   "cell_type": "markdown",
   "metadata": {},
   "source": [
    "Finally words are making some sense"
   ]
  },
  {
   "cell_type": "markdown",
   "metadata": {},
   "source": [
    "# 4)-Building an LDA model"
   ]
  },
  {
   "cell_type": "code",
   "execution_count": 17,
   "metadata": {},
   "outputs": [],
   "source": [
    "dictionary = corpora.Dictionary(reviews_2)"
   ]
  },
  {
   "cell_type": "code",
   "execution_count": 18,
   "metadata": {},
   "outputs": [],
   "source": [
    "doc_term_matrix = [dictionary.doc2bow(rev) for rev in reviews_2]"
   ]
  },
  {
   "cell_type": "code",
   "execution_count": 19,
   "metadata": {},
   "outputs": [],
   "source": [
    "# Creating the object for LDA model using gensim library\n",
    "LDA = gensim.models.ldamodel.LdaModel\n",
    "\n",
    "# Build LDA model\n",
    "lda_model = LDA(corpus=doc_term_matrix, id2word=dictionary, num_topics=7, random_state=100,\n",
    "                chunksize=1000, passes=50)"
   ]
  },
  {
   "cell_type": "code",
   "execution_count": 20,
   "metadata": {},
   "outputs": [
    {
     "data": {
      "text/plain": [
       "[(0,\n",
       "  '0.026*\"oil\" + 0.020*\"car\" + 0.019*\"filter\" + 0.016*\"engine\" + 0.012*\"code\" + 0.011*\"tank\" + 0.011*\"app\" + 0.010*\"change\" + 0.010*\"vehicle\" + 0.009*\"inverter\"'),\n",
       " (1,\n",
       "  '0.028*\"tire\" + 0.019*\"hose\" + 0.013*\"pressure\" + 0.011*\"use\" + 0.011*\"gauge\" + 0.010*\"good\" + 0.009*\"water\" + 0.009*\"air\" + 0.008*\"bag\" + 0.008*\"time\"'),\n",
       " (2,\n",
       "  '0.056*\"light\" + 0.039*\"battery\" + 0.021*\"car\" + 0.020*\"bulb\" + 0.019*\"power\" + 0.015*\"device\" + 0.014*\"bright\" + 0.012*\"unit\" + 0.011*\"charger\" + 0.010*\"phone\"'),\n",
       " (3,\n",
       "  '0.037*\"product\" + 0.036*\"wax\" + 0.021*\"car\" + 0.020*\"paint\" + 0.016*\"kit\" + 0.016*\"pad\" + 0.016*\"black\" + 0.013*\"good\" + 0.012*\"surface\" + 0.012*\"finish\"'),\n",
       " (4,\n",
       "  '0.044*\"car\" + 0.026*\"towel\" + 0.023*\"clean\" + 0.022*\"product\" + 0.019*\"water\" + 0.017*\"good\" + 0.015*\"leather\" + 0.014*\"great\" + 0.013*\"use\" + 0.012*\"wash\"'),\n",
       " (5,\n",
       "  '0.025*\"wiper\" + 0.024*\"blade\" + 0.022*\"good\" + 0.018*\"price\" + 0.013*\"product\" + 0.013*\"great\" + 0.011*\"quality\" + 0.011*\"amazon\" + 0.011*\"windshield\" + 0.011*\"time\"'),\n",
       " (6,\n",
       "  '0.017*\"easy\" + 0.016*\"fit\" + 0.014*\"great\" + 0.012*\"trailer\" + 0.010*\"jeep\" + 0.010*\"install\" + 0.010*\"cover\" + 0.010*\"small\" + 0.009*\"work\" + 0.009*\"door\"')]"
      ]
     },
     "execution_count": 20,
     "metadata": {},
     "output_type": "execute_result"
    }
   ],
   "source": [
    "lda_model.print_topics()"
   ]
  },
  {
   "cell_type": "markdown",
   "metadata": {},
   "source": [
    "The fourth topic Topic 3 has terms like ‘towel’, ‘clean’, ‘wax’, ‘water’, indicating that the topic is very much related to car-wash. Similarly, Topic 6 seems to be about the overall value of the product as it has terms like ‘price’, ‘quality’, and ‘worth’."
   ]
  },
  {
   "cell_type": "markdown",
   "metadata": {},
   "source": [
    "# 5)-Topics Visualization"
   ]
  },
  {
   "cell_type": "code",
   "execution_count": 23,
   "metadata": {},
   "outputs": [
    {
     "data": {
      "text/html": [
       "\n",
       "<link rel=\"stylesheet\" type=\"text/css\" href=\"https://cdn.rawgit.com/bmabey/pyLDAvis/files/ldavis.v1.0.0.css\">\n",
       "\n",
       "\n",
       "<div id=\"ldavis_el780022346606637284437903543\"></div>\n",
       "<script type=\"text/javascript\">\n",
       "\n",
       "var ldavis_el780022346606637284437903543_data = {\"mdsDat\": {\"x\": [-0.049502550375638804, -0.02354641488360939, 0.1701564296871294, -0.06529874868017306, 0.24997337449330936, -0.18929580338246088, -0.0924862868585565], \"y\": [0.1040534558484311, -0.011257525931921262, -0.10165164633914242, -0.07526253113083534, 0.020373017198176295, -0.18666364240838923, 0.25040887276368057], \"topics\": [1, 2, 3, 4, 5, 6, 7], \"cluster\": [1, 1, 1, 1, 1, 1, 1], \"Freq\": [18.699810028076172, 16.81513023376465, 14.175553321838379, 14.071290016174316, 13.180696487426758, 12.546910285949707, 10.510601997375488]}, \"tinfo\": {\"Category\": [\"Default\", \"Default\", \"Default\", \"Default\", \"Default\", \"Default\", \"Default\", \"Default\", \"Default\", \"Default\", \"Default\", \"Default\", \"Default\", \"Default\", \"Default\", \"Default\", \"Default\", \"Default\", \"Default\", \"Default\", \"Default\", \"Default\", \"Default\", \"Default\", \"Default\", \"Default\", \"Default\", \"Default\", \"Default\", \"Default\", \"Topic1\", \"Topic1\", \"Topic1\", \"Topic1\", \"Topic1\", \"Topic1\", \"Topic1\", \"Topic1\", \"Topic1\", \"Topic1\", \"Topic1\", \"Topic1\", \"Topic1\", \"Topic1\", \"Topic1\", \"Topic1\", \"Topic1\", \"Topic1\", \"Topic1\", \"Topic1\", \"Topic1\", \"Topic1\", \"Topic1\", \"Topic1\", \"Topic1\", \"Topic1\", \"Topic1\", \"Topic1\", \"Topic1\", \"Topic1\", \"Topic1\", \"Topic1\", \"Topic1\", \"Topic1\", \"Topic1\", \"Topic1\", \"Topic1\", \"Topic1\", \"Topic1\", \"Topic1\", \"Topic1\", \"Topic1\", \"Topic1\", \"Topic1\", \"Topic1\", \"Topic1\", \"Topic1\", \"Topic1\", \"Topic1\", \"Topic1\", \"Topic1\", \"Topic1\", \"Topic1\", \"Topic1\", \"Topic1\", \"Topic1\", \"Topic1\", \"Topic2\", \"Topic2\", \"Topic2\", \"Topic2\", \"Topic2\", \"Topic2\", \"Topic2\", \"Topic2\", \"Topic2\", \"Topic2\", \"Topic2\", \"Topic2\", \"Topic2\", \"Topic2\", \"Topic2\", \"Topic2\", \"Topic2\", \"Topic2\", \"Topic2\", \"Topic2\", \"Topic2\", \"Topic2\", \"Topic2\", \"Topic2\", \"Topic2\", \"Topic2\", \"Topic2\", \"Topic2\", \"Topic2\", \"Topic2\", \"Topic2\", \"Topic2\", \"Topic2\", \"Topic2\", \"Topic2\", \"Topic2\", \"Topic2\", \"Topic2\", \"Topic2\", \"Topic2\", \"Topic2\", \"Topic2\", \"Topic2\", \"Topic2\", \"Topic2\", \"Topic2\", \"Topic2\", \"Topic2\", \"Topic2\", \"Topic2\", \"Topic2\", \"Topic2\", \"Topic2\", \"Topic2\", \"Topic2\", \"Topic2\", \"Topic2\", \"Topic2\", \"Topic2\", \"Topic2\", \"Topic2\", \"Topic3\", \"Topic3\", \"Topic3\", \"Topic3\", \"Topic3\", \"Topic3\", \"Topic3\", \"Topic3\", \"Topic3\", \"Topic3\", \"Topic3\", \"Topic3\", \"Topic3\", \"Topic3\", \"Topic3\", \"Topic3\", \"Topic3\", \"Topic3\", \"Topic3\", \"Topic3\", \"Topic3\", \"Topic3\", \"Topic3\", \"Topic3\", \"Topic3\", \"Topic3\", \"Topic3\", \"Topic3\", \"Topic3\", \"Topic3\", \"Topic3\", \"Topic3\", \"Topic3\", \"Topic3\", \"Topic3\", \"Topic3\", \"Topic3\", \"Topic3\", \"Topic3\", \"Topic3\", \"Topic3\", \"Topic3\", \"Topic3\", \"Topic3\", \"Topic3\", \"Topic3\", \"Topic3\", \"Topic3\", \"Topic3\", \"Topic3\", \"Topic3\", \"Topic3\", \"Topic3\", \"Topic3\", \"Topic3\", \"Topic3\", \"Topic3\", \"Topic4\", \"Topic4\", \"Topic4\", \"Topic4\", \"Topic4\", \"Topic4\", \"Topic4\", \"Topic4\", \"Topic4\", \"Topic4\", \"Topic4\", \"Topic4\", \"Topic4\", \"Topic4\", \"Topic4\", \"Topic4\", \"Topic4\", \"Topic4\", \"Topic4\", \"Topic4\", \"Topic4\", \"Topic4\", \"Topic4\", \"Topic4\", \"Topic4\", \"Topic4\", \"Topic4\", \"Topic4\", \"Topic4\", \"Topic4\", \"Topic4\", \"Topic4\", \"Topic4\", \"Topic4\", \"Topic4\", \"Topic4\", \"Topic4\", \"Topic4\", \"Topic4\", \"Topic4\", \"Topic4\", \"Topic4\", \"Topic4\", \"Topic4\", \"Topic4\", \"Topic4\", \"Topic4\", \"Topic4\", \"Topic4\", \"Topic4\", \"Topic4\", \"Topic4\", \"Topic5\", \"Topic5\", \"Topic5\", \"Topic5\", \"Topic5\", \"Topic5\", \"Topic5\", \"Topic5\", \"Topic5\", \"Topic5\", \"Topic5\", \"Topic5\", \"Topic5\", \"Topic5\", \"Topic5\", \"Topic5\", \"Topic5\", \"Topic5\", \"Topic5\", \"Topic5\", \"Topic5\", \"Topic5\", \"Topic5\", \"Topic5\", \"Topic5\", \"Topic5\", \"Topic5\", \"Topic5\", \"Topic5\", \"Topic5\", \"Topic5\", \"Topic5\", \"Topic5\", \"Topic5\", \"Topic5\", \"Topic5\", \"Topic5\", \"Topic5\", \"Topic5\", \"Topic5\", \"Topic5\", \"Topic5\", \"Topic5\", \"Topic5\", \"Topic5\", \"Topic5\", \"Topic5\", \"Topic5\", \"Topic5\", \"Topic5\", \"Topic5\", \"Topic5\", \"Topic5\", \"Topic5\", \"Topic5\", \"Topic5\", \"Topic5\", \"Topic5\", \"Topic5\", \"Topic5\", \"Topic5\", \"Topic5\", \"Topic5\", \"Topic5\", \"Topic5\", \"Topic6\", \"Topic6\", \"Topic6\", \"Topic6\", \"Topic6\", \"Topic6\", \"Topic6\", \"Topic6\", \"Topic6\", \"Topic6\", \"Topic6\", \"Topic6\", \"Topic6\", \"Topic6\", \"Topic6\", \"Topic6\", \"Topic6\", \"Topic6\", \"Topic6\", \"Topic6\", \"Topic6\", \"Topic6\", \"Topic6\", \"Topic6\", \"Topic6\", \"Topic6\", \"Topic6\", \"Topic6\", \"Topic6\", \"Topic6\", \"Topic6\", \"Topic6\", \"Topic6\", \"Topic6\", \"Topic6\", \"Topic6\", \"Topic6\", \"Topic6\", \"Topic6\", \"Topic6\", \"Topic6\", \"Topic6\", \"Topic6\", \"Topic6\", \"Topic6\", \"Topic6\", \"Topic6\", \"Topic6\", \"Topic7\", \"Topic7\", \"Topic7\", \"Topic7\", \"Topic7\", \"Topic7\", \"Topic7\", \"Topic7\", \"Topic7\", \"Topic7\", \"Topic7\", \"Topic7\", \"Topic7\", \"Topic7\", \"Topic7\", \"Topic7\", \"Topic7\", \"Topic7\", \"Topic7\", \"Topic7\", \"Topic7\", \"Topic7\", \"Topic7\", \"Topic7\", \"Topic7\", \"Topic7\", \"Topic7\", \"Topic7\", \"Topic7\", \"Topic7\", \"Topic7\", \"Topic7\", \"Topic7\", \"Topic7\", \"Topic7\", \"Topic7\", \"Topic7\", \"Topic7\", \"Topic7\", \"Topic7\", \"Topic7\", \"Topic7\", \"Topic7\", \"Topic7\", \"Topic7\", \"Topic7\", \"Topic7\", \"Topic7\", \"Topic7\", \"Topic7\", \"Topic7\", \"Topic7\", \"Topic7\", \"Topic7\", \"Topic7\", \"Topic7\", \"Topic7\", \"Topic7\", \"Topic7\"], \"Freq\": [4577.0, 2982.0, 2084.0, 2617.0, 2189.0, 9402.0, 2266.0, 2256.0, 2359.0, 1784.0, 6414.0, 1578.0, 2621.0, 1468.0, 1315.0, 1536.0, 1254.0, 1530.0, 1815.0, 1120.0, 1150.0, 1114.0, 2266.0, 922.0, 1223.0, 1426.0, 1183.0, 981.0, 1016.0, 849.0, 2616.591552734375, 2358.52587890625, 1529.5869140625, 1222.544189453125, 1024.5455322265625, 793.8970947265625, 640.2518310546875, 549.4290161132812, 520.0665893554688, 500.1623229980469, 480.2964172363281, 369.1234130859375, 351.307373046875, 291.0310363769531, 285.80413818359375, 264.7208251953125, 255.4615936279297, 251.64732360839844, 219.65985107421875, 215.18301391601562, 209.18179321289062, 205.73350524902344, 199.96795654296875, 197.77737426757812, 192.2809295654297, 189.82313537597656, 187.5991973876953, 182.90773010253906, 181.20034790039062, 182.20529174804688, 583.8848266601562, 969.5592651367188, 736.0608520507812, 642.5025634765625, 1931.3431396484375, 434.36822509765625, 716.51806640625, 4519.5771484375, 343.5688171386719, 287.329833984375, 683.4616088867188, 355.9117126464844, 2211.98046875, 926.662353515625, 1710.9669189453125, 1321.3406982421875, 1425.496337890625, 562.3065795898438, 568.0916137695312, 681.0579223632812, 947.6886596679688, 463.4416809082031, 572.4112548828125, 635.3181762695312, 580.660888671875, 578.7210083007812, 548.0396118164062, 2265.348388671875, 2256.02099609375, 1016.2439575195312, 595.7219848632812, 498.75909423828125, 351.00030517578125, 255.0955352783203, 211.72776794433594, 177.65614318847656, 145.03175354003906, 135.0574493408203, 130.27378845214844, 127.44117736816406, 123.57804870605469, 117.34302520751953, 121.68598175048828, 112.40353393554688, 104.3997573852539, 99.5378189086914, 98.8023681640625, 96.90644836425781, 93.46578979492188, 93.1325912475586, 89.43992614746094, 82.52685546875, 80.78350067138672, 80.7548599243164, 77.44374084472656, 74.56924438476562, 74.06820678710938, 701.3622436523438, 1018.8828735351562, 418.1343078613281, 1673.6749267578125, 398.9089050292969, 356.2837219238281, 755.835693359375, 167.685546875, 1031.217041015625, 796.7047119140625, 517.9314575195312, 545.754150390625, 856.793212890625, 622.2861328125, 449.2543640136719, 2058.682373046875, 676.5709838867188, 946.545166015625, 365.29400634765625, 644.0302124023438, 830.3895263671875, 679.3176879882812, 712.4263305664062, 1159.6524658203125, 1191.5728759765625, 893.9629516601562, 973.947265625, 754.9891357421875, 568.8482055664062, 511.8197021484375, 689.1304321289062, 2188.59326171875, 1468.0006103515625, 980.9475708007812, 831.5726318359375, 644.0699462890625, 330.0362854003906, 320.804443359375, 303.0846862792969, 296.2862548828125, 281.4143981933594, 266.9917297363281, 258.73638916015625, 257.800537109375, 257.50286865234375, 238.93389892578125, 237.47779846191406, 180.28001403808594, 175.9093780517578, 175.14697265625, 159.56698608398438, 159.24163818359375, 157.52891540527344, 152.93862915039062, 149.6359100341797, 148.4843292236328, 145.5779266357422, 142.47796630859375, 129.56222534179688, 136.95407104492188, 132.9564666748047, 530.0018310546875, 410.7452392578125, 687.1905517578125, 251.28672790527344, 587.9208984375, 242.0111083984375, 480.5393981933594, 284.59552001953125, 362.1605529785156, 313.8084411621094, 250.05592346191406, 689.3197631835938, 470.84967041015625, 871.0153198242188, 810.2031860351562, 635.9353637695312, 560.4007568359375, 426.1141357421875, 397.2699890136719, 403.0502014160156, 361.83868408203125, 396.8110046386719, 364.58343505859375, 416.55419921875, 372.8641052246094, 354.4011535644531, 318.8623046875, 2981.39892578125, 1577.27783203125, 1149.978759765625, 1114.1400146484375, 857.7489624023438, 745.932861328125, 699.7952270507812, 648.0935668945312, 456.7094421386719, 385.569091796875, 361.1421203613281, 352.7027282714844, 325.52435302734375, 297.51055908203125, 267.2131652832031, 250.25833129882812, 244.2930145263672, 241.558349609375, 225.7572784423828, 220.6948699951172, 200.81126403808594, 176.53244018554688, 161.475341796875, 157.0828857421875, 140.72959899902344, 140.7886505126953, 139.4132080078125, 135.82334899902344, 135.62782287597656, 133.37075805664062, 4302.4541015625, 1454.796142578125, 960.0357055664062, 282.5843200683594, 361.20562744140625, 272.4662780761719, 371.88446044921875, 525.0135498046875, 377.7273254394531, 1600.6453857421875, 295.74359130859375, 389.7547607421875, 440.2577209472656, 618.798583984375, 610.9063110351562, 329.989013671875, 517.7973022460938, 433.39324951171875, 377.60906982421875, 390.71832275390625, 361.6411437988281, 351.1887512207031, 869.531982421875, 722.5256958007812, 663.5553588867188, 633.743896484375, 438.756103515625, 396.8533935546875, 356.03375244140625, 310.0796813964844, 297.8584899902344, 287.51348876953125, 264.31103515625, 233.66653442382812, 189.86761474609375, 188.5695037841797, 181.34446716308594, 174.11985778808594, 161.80712890625, 146.68069458007812, 145.9905548095703, 137.542724609375, 121.5289077758789, 121.38091278076172, 117.88058471679688, 117.59395599365234, 113.71849060058594, 108.56710815429688, 105.58586120605469, 101.04312133789062, 92.36067199707031, 91.6527328491211, 707.4660034179688, 344.474609375, 422.4300537109375, 362.0280456542969, 679.8839721679688, 463.5052490234375, 330.5395812988281, 383.7400817871094, 301.70086669921875, 355.2992858886719, 344.16778564453125, 1135.5626220703125, 588.2791137695312, 308.3297119140625, 716.8905029296875, 606.4772338867188, 276.1762390136719, 1246.97802734375, 440.1447448730469, 631.1415405273438, 691.363037109375, 1005.6985473632812, 585.739013671875, 428.220703125, 628.3411254882812, 625.3457641601562, 681.2531127929688, 440.86138916015625, 427.73272705078125, 485.8289489746094, 428.74847412109375, 410.11151123046875, 505.65130615234375, 424.01593017578125, 452.4500427246094, 1783.3834228515625, 1315.1075439453125, 1119.82666015625, 849.2293090820312, 751.0343627929688, 735.767333984375, 620.4629516601562, 522.5447998046875, 501.097412109375, 430.0269775390625, 424.9801025390625, 380.7147521972656, 337.1281433105469, 318.9082946777344, 293.2414245605469, 278.1136474609375, 261.3796081542969, 244.60250854492188, 215.1854705810547, 211.40377807617188, 189.015869140625, 185.82534790039062, 184.89785766601562, 180.66551208496094, 175.03915405273438, 175.47837829589844, 173.19981384277344, 157.71435546875, 154.5580596923828, 151.52871704101562, 385.5374450683594, 300.22552490234375, 714.1974487304688, 336.3965759277344, 240.63377380371094, 425.2320861816406, 690.07568359375, 1393.8538818359375, 254.56207275390625, 443.9783020019531, 465.62750244140625, 406.3248596191406, 502.8138427734375, 294.9889831542969, 417.12017822265625, 343.3935546875, 343.6376647949219, 301.9516296386719, 2083.293701171875, 921.66455078125, 619.2034301757812, 614.9849853515625, 506.6503601074219, 253.19378662109375, 244.00640869140625, 241.70751953125, 207.73504638671875, 205.5964813232422, 202.8279571533203, 190.36099243164062, 175.42431640625, 174.8754119873047, 171.6181640625, 135.93218994140625, 133.13258361816406, 125.21295166015625, 124.13188934326172, 121.52334594726562, 119.18690490722656, 117.76587677001953, 126.00308990478516, 117.06389617919922, 113.98677062988281, 112.03150939941406, 106.36707305908203, 105.20588684082031, 104.81270599365234, 101.9786376953125, 1169.872314453125, 164.5361328125, 559.2542114257812, 679.2412719726562, 508.5355224609375, 921.41064453125, 616.4028930664062, 927.9786376953125, 342.52691650390625, 699.5152587890625, 274.0950012207031, 462.81488037109375, 2122.152099609375, 278.1785583496094, 520.7120971679688, 284.0611572265625, 1198.643798828125, 500.8345642089844, 229.6346893310547, 765.436279296875, 657.9140014648438, 488.2290344238281, 529.02734375, 521.7418823242188, 494.95965576171875, 336.53997802734375, 363.5243835449219, 389.0133972167969, 298.9241638183594], \"Term\": [\"light\", \"battery\", \"wax\", \"towel\", \"tire\", \"car\", \"wiper\", \"blade\", \"clean\", \"oil\", \"product\", \"bulb\", \"water\", \"hose\", \"filter\", \"power\", \"paint\", \"leather\", \"fit\", \"engine\", \"device\", \"bright\", \"price\", \"pad\", \"wash\", \"kit\", \"black\", \"pressure\", \"windshield\", \"code\", \"towel\", \"clean\", \"leather\", \"wash\", \"microfiber\", \"cloth\", \"dirt\", \"smell\", \"griot\", \"dust\", \"cleaning\", \"chemical\", \"washing\", \"conditioner\", \"soap\", \"cleaner\", \"mitt\", \"scent\", \"torque\", \"chamois\", \"rinse\", \"lint\", \"bug\", \"kitchen\", \"sponge\", \"stain\", \"film\", \"fiber\", \"absorbent\", \"micro\", \"brush\", \"dry\", \"bottle\", \"soft\", \"water\", \"interior\", \"spray\", \"car\", \"care\", \"dirty\", \"wheel\", \"wipe\", \"product\", \"job\", \"good\", \"use\", \"great\", \"stuff\", \"hand\", \"lot\", \"time\", \"window\", \"well\", \"work\", \"nice\", \"little\", \"small\", \"wiper\", \"blade\", \"windshield\", \"snow\", \"bosch\", \"arm\", \"shipping\", \"link\", \"icon\", \"gear\", \"scan\", \"signal\", \"gasket\", \"pink\", \"anco\", \"cutting\", \"label\", \"score\", \"stem\", \"terrible\", \"acdelco\", \"gift\", \"draw\", \"accord\", \"info\", \"logo\", \"play\", \"city\", \"toy\", \"delivery\", \"rain\", \"amazon\", \"original\", \"price\", \"replacement\", \"oem\", \"one\", \"thank\", \"quality\", \"part\", \"brand\", \"worth\", \"old\", \"cheap\", \"store\", \"good\", \"review\", \"year\", \"installation\", \"last\", \"new\", \"fit\", \"well\", \"great\", \"product\", \"work\", \"time\", \"easy\", \"side\", \"install\", \"car\", \"tire\", \"hose\", \"pressure\", \"gauge\", \"bag\", \"bucket\", \"storage\", \"tender\", \"compressor\", \"outlet\", \"volt\", \"accurate\", \"sewer\", \"watt\", \"adhesive\", \"led\", \"terminal\", \"fitting\", \"housing\", \"mode\", \"camco\", \"gun\", \"helmet\", \"dish\", \"measure\", \"guard\", \"digital\", \"tablet\", \"crash\", \"habit\", \"connector\", \"valve\", \"air\", \"nozzle\", \"plug\", \"seal\", \"end\", \"brake\", \"wire\", \"cap\", \"leak\", \"water\", \"tool\", \"use\", \"good\", \"time\", \"easy\", \"small\", \"quality\", \"nice\", \"kit\", \"little\", \"plastic\", \"work\", \"thing\", \"way\", \"product\", \"battery\", \"bulb\", \"device\", \"bright\", \"charger\", \"phone\", \"charge\", \"cable\", \"port\", \"usb\", \"solar\", \"automatic\", \"fuse\", \"cigarette\", \"cell\", \"output\", \"laptop\", \"button\", \"amp\", \"iphone\", \"voltage\", \"psi\", \"dead\", \"scraper\", \"jump\", \"compact\", \"remote\", \"lighting\", \"meter\", \"vision\", \"light\", \"power\", \"unit\", \"driving\", \"night\", \"switch\", \"blue\", \"white\", \"panel\", \"car\", \"cord\", \"color\", \"day\", \"use\", \"time\", \"wire\", \"great\", \"vehicle\", \"small\", \"work\", \"thing\", \"good\", \"trailer\", \"jeep\", \"jack\", \"mat\", \"lock\", \"bolt\", \"hitch\", \"plate\", \"camper\", \"block\", \"wrench\", \"wrangler\", \"rust\", \"nut\", \"vent\", \"wood\", \"receiver\", \"tie\", \"crack\", \"bamboo\", \"chock\", \"stove\", \"license\", \"rim\", \"latch\", \"tailgate\", \"stand\", \"speaker\", \"height\", \"rugged\", \"cover\", \"strip\", \"board\", \"bumper\", \"door\", \"hole\", \"weight\", \"screw\", \"strap\", \"key\", \"sturdy\", \"fit\", \"front\", \"floor\", \"install\", \"place\", \"mount\", \"easy\", \"seat\", \"plastic\", \"small\", \"great\", \"side\", \"tape\", \"nice\", \"little\", \"work\", \"heavy\", \"wheel\", \"thing\", \"large\", \"top\", \"use\", \"size\", \"good\", \"oil\", \"filter\", \"engine\", \"code\", \"tank\", \"app\", \"inverter\", \"gas\", \"mile\", \"fuel\", \"fluid\", \"datum\", \"sensor\", \"pump\", \"scanner\", \"zubie\", \"mpg\", \"mileage\", \"indicator\", \"display\", \"software\", \"ramp\", \"bluetooth\", \"lamp\", \"transmission\", \"visor\", \"obd\", \"coolant\", \"limited\", \"map\", \"information\", \"drain\", \"change\", \"check\", \"screen\", \"system\", \"vehicle\", \"car\", \"manual\", \"tool\", \"problem\", \"air\", \"time\", \"trip\", \"use\", \"new\", \"product\", \"good\", \"wax\", \"pad\", \"clay\", \"polish\", \"coat\", \"vinyl\", \"sealant\", \"applicator\", \"grit\", \"compound\", \"drill\", \"polisher\", \"paste\", \"swirl\", \"buff\", \"gloss\", \"buffer\", \"dull\", \"carnauba\", \"apply\", \"armor\", \"protectant\", \"privacy\", \"gap\", \"exterior\", \"leg\", \"shade\", \"gel\", \"sunlight\", \"coating\", \"paint\", \"ultimate\", \"meguiar\", \"finish\", \"shine\", \"black\", \"result\", \"kit\", \"step\", \"surface\", \"scratch\", \"application\", \"product\", \"protection\", \"clear\", \"headlight\", \"car\", \"plastic\", \"liquid\", \"good\", \"time\", \"new\", \"easy\", \"use\", \"great\", \"area\", \"year\", \"work\", \"stuff\"], \"Total\": [4577.0, 2982.0, 2084.0, 2617.0, 2189.0, 9402.0, 2266.0, 2256.0, 2359.0, 1784.0, 6414.0, 1578.0, 2621.0, 1468.0, 1315.0, 1536.0, 1254.0, 1530.0, 1815.0, 1120.0, 1150.0, 1114.0, 2266.0, 922.0, 1223.0, 1426.0, 1183.0, 981.0, 1016.0, 849.0, 2617.334716796875, 2359.270751953125, 1530.330322265625, 1223.2874755859375, 1025.28857421875, 794.6405029296875, 640.99609375, 550.1731567382812, 520.8110961914062, 500.9066467285156, 481.0406188964844, 369.8677062988281, 352.0507507324219, 291.774658203125, 286.5471496582031, 265.46441650390625, 256.20428466796875, 252.3907470703125, 220.41482543945312, 215.926513671875, 209.92742919921875, 206.47642517089844, 200.71255493164062, 198.52552795410156, 193.0240936279297, 190.56646728515625, 188.345458984375, 183.65115356445312, 181.94332885742188, 182.95301818847656, 592.7212524414062, 1033.0579833984375, 817.2910766601562, 738.01416015625, 2621.281494140625, 495.9798278808594, 944.9500732421875, 9402.1083984375, 397.5484313964844, 319.9597473144531, 1111.806640625, 441.10357666015625, 6414.453125, 1847.330810546875, 6450.8798828125, 4356.04345703125, 5033.62744140625, 1084.470947265625, 1206.8123779296875, 1795.1480712890625, 4642.7314453125, 794.8480224609375, 2080.857666015625, 3646.794921875, 2369.930419921875, 2526.901611328125, 2153.46142578125, 2266.076171875, 2256.748779296875, 1016.972900390625, 596.451171875, 499.48760986328125, 351.729248046875, 255.8247833251953, 212.47235107421875, 178.38394165039062, 145.76304626464844, 135.79029846191406, 131.00950622558594, 128.17083740234375, 124.30862426757812, 118.07032775878906, 122.44152069091797, 113.13888549804688, 105.15690612792969, 100.26943969726562, 99.53758239746094, 97.6347885131836, 94.19799041748047, 93.8788070678711, 90.17100524902344, 83.26174926757812, 81.51358032226562, 81.48704528808594, 78.17865753173828, 75.30105590820312, 74.79671478271484, 769.9951171875, 1201.864013671875, 466.4790954589844, 2266.5693359375, 494.9634094238281, 435.3797607421875, 1087.5126953125, 195.5774383544922, 1970.6292724609375, 1428.772705078125, 825.8124389648438, 943.15478515625, 1727.908935546875, 1157.385986328125, 743.4151611328125, 6450.8798828125, 1389.1656494140625, 2354.978515625, 595.6254272460938, 1419.3687744140625, 2202.43310546875, 1815.4776611328125, 2080.857666015625, 5033.62744140625, 6414.453125, 3646.794921875, 4642.7314453125, 3743.689697265625, 1596.7177734375, 1229.3074951171875, 9402.1083984375, 2189.319580078125, 1468.727294921875, 981.6747436523438, 832.2984619140625, 644.7970581054688, 330.76611328125, 321.5321960449219, 303.811767578125, 297.01202392578125, 282.14306640625, 267.7203063964844, 259.46337890625, 258.5266418457031, 258.2340087890625, 239.66500854492188, 238.21022033691406, 181.00746154785156, 176.6361846923828, 175.87669372558594, 160.2980194091797, 159.97264099121094, 158.2560272216797, 153.66497802734375, 150.369873046875, 149.2133026123047, 146.30743408203125, 143.20433044433594, 130.29515075683594, 137.73472595214844, 133.7161102294922, 593.1827392578125, 511.3818359375, 1094.1094970703125, 314.4023132324219, 1117.7825927734375, 310.62493896484375, 1024.6788330078125, 446.528564453125, 692.7708129882812, 540.6505126953125, 360.7642517089844, 2621.281494140625, 1250.93896484375, 4356.04345703125, 6450.8798828125, 4642.7314453125, 3743.689697265625, 2153.46142578125, 1970.6292724609375, 2369.930419921875, 1426.6944580078125, 2526.901611328125, 1670.1136474609375, 3646.794921875, 2330.9130859375, 1957.603515625, 6414.453125, 2982.14501953125, 1578.0244140625, 1150.727294921875, 1114.8870849609375, 858.4950561523438, 746.6813354492188, 700.541748046875, 648.8413696289062, 457.4580383300781, 386.3158264160156, 361.8887939453125, 353.4582214355469, 326.271240234375, 298.2570495605469, 267.9608154296875, 251.00491333007812, 245.0406951904297, 242.30755615234375, 226.50376892089844, 221.4447021484375, 201.5576629638672, 177.282470703125, 162.22360229492188, 157.83523559570312, 141.47637939453125, 141.5396728515625, 140.1614532470703, 136.5710906982422, 136.37509155273438, 134.12477111816406, 4577.6064453125, 1536.388671875, 1173.7945556640625, 305.5152893066406, 402.0143737792969, 312.46673583984375, 501.5703430175781, 857.3717041015625, 580.8788452148438, 9402.1083984375, 412.6001281738281, 989.8963623046875, 1404.6285400390625, 4356.04345703125, 4642.7314453125, 692.7708129882812, 5033.62744140625, 2276.948974609375, 2153.46142578125, 3646.794921875, 2330.9130859375, 6450.8798828125, 870.2530517578125, 723.24755859375, 664.2760620117188, 634.466064453125, 439.4775390625, 397.57470703125, 356.7544860839844, 310.801513671875, 298.5805358886719, 288.23699951171875, 265.0318908691406, 234.38768005371094, 190.5894012451172, 189.29092407226562, 182.0657501220703, 174.8419647216797, 162.5281524658203, 147.4019012451172, 146.7144317626953, 138.26756286621094, 122.24907684326172, 122.10252380371094, 118.60301208496094, 118.31708526611328, 114.44038391113281, 109.28836059570312, 106.30791473388672, 101.76785278320312, 93.08180236816406, 92.37397766113281, 765.3519897460938, 363.90960693359375, 482.2155456542969, 410.08624267578125, 824.7381591796875, 540.9861450195312, 387.7744445800781, 460.5320739746094, 356.0794982910156, 435.05328369140625, 422.17437744140625, 1815.4776611328125, 843.161865234375, 375.2966613769531, 1229.3074951171875, 994.4419555664062, 343.3484191894531, 3743.689697265625, 826.1292724609375, 1670.1136474609375, 2153.46142578125, 5033.62744140625, 1596.7177734375, 785.0625610351562, 2369.930419921875, 2526.901611328125, 3646.794921875, 948.21044921875, 1111.806640625, 2330.9130859375, 1268.174072265625, 944.53857421875, 4356.04345703125, 1272.6038818359375, 6450.8798828125, 1784.102783203125, 1315.8262939453125, 1120.5462646484375, 849.948486328125, 751.7545776367188, 736.4882202148438, 621.18896484375, 523.2653198242188, 501.8174743652344, 430.74603271484375, 425.7000427246094, 381.4348449707031, 337.8489685058594, 319.62860107421875, 293.9607238769531, 278.8405456542969, 262.0986633300781, 245.32177734375, 215.9121551513672, 212.1251983642578, 189.73533630371094, 186.54600524902344, 185.6187744140625, 181.3895263671875, 175.7579803466797, 176.20437622070312, 173.91921997070312, 158.43350219726562, 155.2823486328125, 152.25344848632812, 415.68511962890625, 319.6495056152344, 829.4161987304688, 473.84075927734375, 296.27532958984375, 787.8017578125, 2276.948974609375, 9402.1083984375, 350.9437561035156, 1250.93896484375, 1477.239013671875, 1094.1094970703125, 4642.7314453125, 663.2542114257812, 4356.04345703125, 2202.43310546875, 6414.453125, 6450.8798828125, 2084.02294921875, 922.39453125, 619.9326782226562, 615.7142333984375, 507.3800048828125, 253.92474365234375, 244.73655700683594, 242.43698120117188, 208.46591186523438, 206.3256378173828, 203.55979919433594, 191.0902099609375, 176.15354919433594, 175.60479736328125, 172.3475341796875, 136.6616668701172, 133.8616943359375, 125.94574737548828, 124.8609848022461, 122.25284576416016, 119.9172134399414, 118.49522399902344, 126.78733825683594, 117.7984390258789, 114.71907806396484, 112.7705078125, 107.0992431640625, 105.9379653930664, 105.55328369140625, 102.71036529541016, 1254.0587158203125, 168.42604064941406, 614.0579223632812, 804.5706176757812, 597.6566162109375, 1183.3741455078125, 801.0018920898438, 1426.6944580078125, 463.3831787109375, 1228.1568603515625, 359.509033203125, 751.0633544921875, 6414.453125, 400.80303955078125, 1083.7431640625, 440.6631774902344, 9402.1083984375, 1670.1136474609375, 335.6856689453125, 6450.8798828125, 4642.7314453125, 2202.43310546875, 3743.689697265625, 4356.04345703125, 5033.62744140625, 1140.8167724609375, 2354.978515625, 3646.794921875, 1084.470947265625], \"loglift\": [30.0, 29.0, 28.0, 27.0, 26.0, 25.0, 24.0, 23.0, 22.0, 21.0, 20.0, 19.0, 18.0, 17.0, 16.0, 15.0, 14.0, 13.0, 12.0, 11.0, 10.0, 9.0, 8.0, 7.0, 6.0, 5.0, 4.0, 3.0, 2.0, 1.0, 1.6763999462127686, 1.676300048828125, 1.676200032234192, 1.6759999990463257, 1.6758999824523926, 1.6756999492645264, 1.6755000352859497, 1.6753000020980835, 1.6751999855041504, 1.6751999855041504, 1.6750999689102173, 1.6746000051498413, 1.6744999885559082, 1.6741000413894653, 1.6741000413894653, 1.6739000082015991, 1.673799991607666, 1.673699975013733, 1.673200011253357, 1.673200011253357, 1.6730999946594238, 1.6730999946594238, 1.6728999614715576, 1.6728999614715576, 1.6727999448776245, 1.672700047492981, 1.672700047492981, 1.6726000308990479, 1.6726000308990479, 1.6726000308990479, 1.6615999937057495, 1.6131999492645264, 1.5720000267028809, 1.538100004196167, 1.3711999654769897, 1.5440000295639038, 1.399899959564209, 0.944100022315979, 1.5306999683380127, 1.569100022315979, 1.1900999546051025, 1.4621000289916992, 0.6119999885559082, 0.9866999983787537, 0.34950000047683716, 0.4837000072002411, 0.41499999165534973, 1.0198999643325806, 0.9232000112533569, 0.7074999809265137, 0.08760000020265579, 1.1371999979019165, 0.38600000739097595, -0.07079999893903732, 0.2702000141143799, 0.20270000398159027, 0.30820000171661377, 1.7826000452041626, 1.7826000452041626, 1.7821999788284302, 1.7817000150680542, 1.7813999652862549, 1.7807999849319458, 1.7799999713897705, 1.7793999910354614, 1.7788000106811523, 1.777899980545044, 1.777500033378601, 1.7773000001907349, 1.7771999835968018, 1.7769999504089355, 1.7767000198364258, 1.7767000198364258, 1.7763999700546265, 1.7756999731063843, 1.7755999565124512, 1.7755000591278076, 1.7754000425338745, 1.7750999927520752, 1.774899959564209, 1.7747999429702759, 1.7740000486373901, 1.773900032043457, 1.773900032043457, 1.7733999490737915, 1.7731000185012817, 1.7731000185012817, 1.6894999742507935, 1.6176999807357788, 1.6734999418258667, 1.479599952697754, 1.5671000480651855, 1.5823999643325806, 1.419100046157837, 1.628999948501587, 1.1353000402450562, 1.198799967765808, 1.3164000511169434, 1.23580002784729, 1.0814000368118286, 1.1624000072479248, 1.2791999578475952, 0.6406999826431274, 1.0635000467300415, 0.871399998664856, 1.2940000295639038, 0.9926999807357788, 0.8075000047683716, 0.7998999953269958, 0.7110000252723694, 0.3149000108242035, 0.09960000216960907, 0.37700000405311584, 0.22120000422000885, 0.1817999929189682, 0.7508000135421753, 0.9067000150680542, -0.8303999900817871, 1.9532999992370605, 1.9531999826431274, 1.9529000520706177, 1.9528000354766846, 1.9524999856948853, 1.9514000415802002, 1.9514000415802002, 1.951300024986267, 1.951200008392334, 1.9510999917984009, 1.9508999586105347, 1.9507999420166016, 1.9507999420166016, 1.9507999420166016, 1.950600028038025, 1.950600028038025, 1.9495999813079834, 1.9494999647140503, 1.9494999647140503, 1.9491000175476074, 1.9491000175476074, 1.9490000009536743, 1.9488999843597412, 1.948799967765808, 1.948799967765808, 1.948699951171875, 1.9486000537872314, 1.9479999542236328, 1.9479999542236328, 1.9479999542236328, 1.840999960899353, 1.7345000505447388, 1.4886000156402588, 1.729599952697754, 1.3111000061035156, 1.7039999961853027, 1.1964000463485718, 1.5032000541687012, 1.3049999475479126, 1.4097000360488892, 1.5871000289916992, 0.617900013923645, 0.9764999747276306, 0.3440000116825104, -0.12099999934434891, -0.034299999475479126, 0.054499998688697815, 0.3334999978542328, 0.3522000014781952, 0.18209999799728394, 0.5817000269889832, 0.10239999741315842, 0.4318000078201294, -0.2159000039100647, 0.12080000340938568, 0.24459999799728394, -1.0478999614715576, 1.960800051689148, 1.9606000185012817, 1.9603999853134155, 1.9603999853134155, 1.9601999521255493, 1.9600000381469727, 1.9600000381469727, 1.9599000215530396, 1.9594000577926636, 1.9591000080108643, 1.9589999914169312, 1.958899974822998, 1.9586999416351318, 1.9585000276565552, 1.9581999778747559, 1.9580999612808228, 1.9579999446868896, 1.957900047302246, 1.9577000141143799, 1.9575999975204468, 1.9572999477386475, 1.9567999839782715, 1.9564000368118286, 1.9563000202178955, 1.9557000398635864, 1.9557000398635864, 1.9557000398635864, 1.9555000066757202, 1.9555000066757202, 1.955399990081787, 1.8990000486373901, 1.906499981880188, 1.7599999904632568, 1.8830000162124634, 1.8539999723434448, 1.8241000175476074, 1.6619000434875488, 1.4706000089645386, 1.5306999683380127, 0.19050000607967377, 1.628000020980835, 1.0290000438690186, 0.8008999824523926, 0.009499999694526196, -0.06710000336170197, 1.2194000482559204, -0.3133000135421753, 0.3021000027656555, 0.22010000050067902, -0.272599995136261, 0.09769999980926514, -0.9495999813079834, 2.025599956512451, 2.025399923324585, 2.0253000259399414, 2.0253000259399414, 2.0248000621795654, 2.024600028991699, 2.024399995803833, 2.0241000652313232, 2.0239999294281006, 2.023900032043457, 2.023699998855591, 2.0232999324798584, 2.022599935531616, 2.022599935531616, 2.02239990234375, 2.0223000049591064, 2.0220000743865967, 2.0215001106262207, 2.0215001106262207, 2.021199941635132, 2.0204999446868896, 2.0204999446868896, 2.0202999114990234, 2.0202999114990234, 2.0201001167297363, 2.0197999477386475, 2.0195999145507812, 2.0192999839782715, 2.0185999870300293, 2.0185999870300293, 1.9478000402450562, 1.971500039100647, 1.8940000534057617, 1.9018000364303589, 1.833299994468689, 1.8717999458312988, 1.8667000532150269, 1.843999981880188, 1.860700011253357, 1.8238999843597412, 1.822100043296814, 1.5571999549865723, 1.6664999723434448, 1.8299000263214111, 1.4871000051498413, 1.5319000482559204, 1.8086999654769897, 0.9271000027656555, 1.3968000411987305, 1.0533000230789185, 0.8902000188827515, 0.41600000858306885, 1.0235999822616577, 1.420300006866455, 0.6988999843597412, 0.6299999952316284, 0.34869998693466187, 1.260599970817566, 1.0712000131607056, 0.45829999446868896, 0.9419999718666077, 1.1921000480651855, -0.12710000574588776, 0.9273999929428101, -0.6309000253677368, 2.0752999782562256, 2.0750999450683594, 2.0750999450683594, 2.0748000144958496, 2.074700117111206, 2.074700117111206, 2.07450008392334, 2.0743000507354736, 2.0743000507354736, 2.0739998817443848, 2.0739998817443848, 2.0738000869750977, 2.0736000537872314, 2.0734000205993652, 2.073199987411499, 2.0731000900268555, 2.0729000568389893, 2.0727999210357666, 2.0722999572753906, 2.0722999572753906, 2.071899890899658, 2.0717999935150146, 2.0717999935150146, 2.071700096130371, 2.0715999603271484, 2.0715999603271484, 2.0715999603271484, 2.0710999965667725, 2.071000099182129, 2.0708999633789062, 2.0004000663757324, 2.013000011444092, 1.9261000156402588, 1.7331000566482544, 1.8676999807357788, 1.4591000080108643, 0.8819000124931335, 0.16680000722408295, 1.7546000480651855, 1.0398000478744507, 0.9211999773979187, 1.0851999521255493, -0.14710000157356262, 1.2654999494552612, -0.2702000141143799, 0.21729999780654907, -0.8510000109672546, -0.9860000014305115, 2.2523999214172363, 2.252000093460083, 2.2516000270843506, 2.2516000270843506, 2.251300096511841, 2.2499001026153564, 2.249799966812134, 2.249799966812134, 2.249300003051758, 2.2492001056671143, 2.2492001056671143, 2.249000072479248, 2.2486000061035156, 2.2486000061035156, 2.248500108718872, 2.2474000453948975, 2.247299909591675, 2.246999979019165, 2.2469000816345215, 2.246799945831299, 2.2467000484466553, 2.2465999126434326, 2.2465999126434326, 2.246500015258789, 2.2464001178741455, 2.2462000846862793, 2.2458999156951904, 2.2458999156951904, 2.245699882507324, 2.2455999851226807, 2.183300018310547, 2.2293999195098877, 2.1593000888824463, 2.0834999084472656, 2.0913000106811523, 2.0025999546051025, 1.9908000230789185, 1.822700023651123, 1.950600028038025, 1.6899000406265259, 1.9815000295639038, 1.7685999870300293, 1.1467000246047974, 1.8875999450683594, 1.5197999477386475, 1.8136999607086182, 0.19300000369548798, 1.0484000444412231, 1.8731000423431396, 0.12129999697208405, 0.298799991607666, 0.7462999820709229, 0.29600000381469727, 0.1306000053882599, -0.066600002348423, 1.031999945640564, 0.38429999351501465, 0.014800000004470348, 0.9641000032424927], \"logprob\": [30.0, 29.0, 28.0, 27.0, 26.0, 25.0, 24.0, 23.0, 22.0, 21.0, 20.0, 19.0, 18.0, 17.0, 16.0, 15.0, 14.0, 13.0, 12.0, 11.0, 10.0, 9.0, 8.0, 7.0, 6.0, 5.0, 4.0, 3.0, 2.0, 1.0, -3.6689000129699707, -3.772700071334839, -4.2058000564575195, -4.429800033569336, -4.606500148773193, -4.861599922180176, -5.076700210571289, -5.229599952697754, -5.284599781036377, -5.323599815368652, -5.364099979400635, -5.627399921417236, -5.6768999099731445, -5.865099906921387, -5.883200168609619, -5.959799766540527, -5.995500087738037, -6.010499954223633, -6.146399974822998, -6.166999816894531, -6.195300102233887, -6.211900234222412, -6.2403998374938965, -6.251399993896484, -6.279600143432617, -6.292399883270264, -6.304200172424316, -6.329500198364258, -6.338900089263916, -6.333399772644043, -5.168799877166748, -4.6616997718811035, -4.93720006942749, -5.073200225830078, -3.972599983215332, -5.464600086212158, -4.964099884033203, -3.1224000453948975, -5.699100017547607, -5.877900123596191, -5.01140022277832, -5.66379976272583, -3.836899995803833, -4.706900119781494, -4.093699932098389, -4.352099895477295, -4.276199817657471, -5.206500053405762, -5.196199893951416, -5.014900207519531, -4.684500217437744, -5.399799823760986, -5.188700199127197, -5.084400177001953, -5.1743998527526855, -5.177700042724609, -5.2322001457214355, -3.7067999839782715, -3.710900068283081, -4.508399963378906, -5.042500019073486, -5.220200061798096, -5.571499824523926, -5.890699863433838, -6.077000141143799, -6.252399921417236, -6.4552998542785645, -6.526599884033203, -6.562699794769287, -6.58459997177124, -6.6153998374938965, -6.667200088500977, -6.630799770355225, -6.71019983291626, -6.78410005569458, -6.8317999839782715, -6.839200019836426, -6.858500003814697, -6.894700050354004, -6.8983001708984375, -6.938700199127197, -7.019199848175049, -7.040500164031982, -7.040900230407715, -7.082699775695801, -7.12060022354126, -7.127299785614014, -4.879300117492676, -4.505799770355225, -5.396500110626221, -4.009500026702881, -5.443600177764893, -5.556600093841553, -4.804500102996826, -6.310200214385986, -4.493800163269043, -4.751800060272217, -5.182400226593018, -5.130099773406982, -4.679100036621094, -4.998899936676025, -5.324699878692627, -3.802500009536743, -4.915299892425537, -4.579500198364258, -5.531599998474121, -4.9644999504089355, -4.710400104522705, -4.911200046539307, -4.86359977722168, -4.376399993896484, -4.349299907684326, -4.636600017547607, -4.550899982452393, -4.805600166320801, -5.088699817657471, -5.194300174713135, -4.896900177001953, -3.570499897003174, -3.969899892807007, -4.373000144958496, -4.5381999015808105, -4.793700218200684, -5.462299823760986, -5.490699768066406, -5.547500133514404, -5.570199966430664, -5.621699810028076, -5.674300193786621, -5.705699920654297, -5.7093000411987305, -5.7104997634887695, -5.785299777984619, -5.791500091552734, -6.066999912261963, -6.091599941253662, -6.095900058746338, -6.1890997886657715, -6.191100120544434, -6.201900005340576, -6.231500148773193, -6.253300189971924, -6.261099815368652, -6.280799865722656, -6.302299976348877, -6.39739990234375, -6.341899871826172, -6.371500015258789, -4.98859977722168, -5.243599891662598, -4.728899955749512, -5.734899997711182, -4.884900093078613, -5.772500038146973, -5.086599826812744, -5.610499858856201, -5.3694000244140625, -5.512700080871582, -5.739799976348877, -4.725800037384033, -5.10699987411499, -4.4918999671936035, -4.564199924468994, -4.806399822235107, -4.9328999519348145, -5.2067999839782715, -5.276899814605713, -5.262499809265137, -5.370299816131592, -5.27810001373291, -5.362800121307373, -5.229499816894531, -5.3403000831604, -5.39109992980957, -5.496799945831299, -3.253999948501587, -3.890700101852417, -4.206600189208984, -4.23829984664917, -4.499800205230713, -4.639500141143799, -4.703400135040283, -4.780099868774414, -5.130099773406982, -5.2993998527526855, -5.3649001121521, -5.388500213623047, -5.468699932098389, -5.558700084686279, -5.666100025177002, -5.7316999435424805, -5.755799770355225, -5.767000198364258, -5.834700107574463, -5.857399940490723, -5.9517998695373535, -6.080599784851074, -6.1697998046875, -6.197400093078613, -6.307300090789795, -6.3069000244140625, -6.316699981689453, -6.342800140380859, -6.344200134277344, -6.361000061035156, -2.887200117111206, -3.9714999198913574, -4.387199878692627, -5.610199928283691, -5.364699840545654, -5.646599769592285, -5.335599899291992, -4.990699768066406, -5.320000171661377, -3.875999927520752, -5.564700126647949, -5.288599967956543, -5.166800022125244, -4.826399803161621, -4.839200019836426, -5.455100059509277, -5.0046000480651855, -5.182499885559082, -5.320300102233887, -5.286200046539307, -5.363500118255615, -5.3927998542785645, -4.42080020904541, -4.605999946594238, -4.691199779510498, -4.737100124359131, -5.104800224304199, -5.2052001953125, -5.313700199127197, -5.451900005340576, -5.492099761962891, -5.527500152587891, -5.611599922180176, -5.734899997711182, -5.942399978637695, -5.9492998123168945, -5.988399982452393, -6.0289998054504395, -6.102399826049805, -6.200500011444092, -6.2052001953125, -6.264800071716309, -6.388599872589111, -6.389800071716309, -6.419099807739258, -6.421500205993652, -6.454999923706055, -6.501399993896484, -6.529200077056885, -6.573200225830078, -6.663099765777588, -6.67080020904541, -4.627099990844727, -5.346700191497803, -5.1427001953125, -5.296999931335449, -4.666800022125244, -5.049900054931641, -5.388000011444092, -5.238800048828125, -5.479300022125244, -5.315800189971924, -5.347599983215332, -4.153900146484375, -4.811600208282471, -5.457600116729736, -4.613800048828125, -4.781099796295166, -5.567699909210205, -4.060299873352051, -5.1016998291015625, -4.741199970245361, -4.650100231170654, -4.275300025939941, -4.815899848937988, -5.1290998458862305, -4.745699882507324, -4.750500202178955, -4.66480016708374, -5.099999904632568, -5.130300045013428, -5.002900123596191, -5.127900123596191, -5.172299861907959, -4.962900161743164, -5.138999938964844, -5.074100017547607, -3.6531999111175537, -3.9577999114990234, -4.118599891662598, -4.395199775695801, -4.51800012588501, -4.538599967956543, -4.709000110626221, -4.880799770355225, -4.922699928283691, -5.0756001472473145, -5.087399959564209, -5.197400093078613, -5.318999767303467, -5.374599933624268, -5.458499908447266, -5.511499881744385, -5.573500156402588, -5.639900207519531, -5.76800012588501, -5.785699844360352, -5.89769983291626, -5.914700031280518, -5.9197001457214355, -5.942800045013428, -5.9745001792907715, -5.9720001220703125, -5.985000133514404, -6.078700065612793, -6.098899841308594, -6.11870002746582, -5.184800148010254, -5.434999942779541, -4.568299770355225, -5.321199893951416, -5.656199932098389, -5.0868000984191895, -4.602700233459473, -3.8996999263763428, -5.599899768829346, -5.043700218200684, -4.996099948883057, -5.132299900054932, -4.919300079345703, -5.452499866485596, -5.106100082397461, -5.300600051879883, -5.299900054931641, -5.429200172424316, -3.32069993019104, -4.136199951171875, -4.533999919891357, -4.540800094604492, -4.734600067138672, -5.428199768066406, -5.465199947357178, -5.474699974060059, -5.626100063323975, -5.636499881744385, -5.650000095367432, -5.713500022888184, -5.795199871063232, -5.798299789428711, -5.8171000480651855, -6.05019998550415, -6.071000099182129, -6.132400035858154, -6.14109992980957, -6.162300109863281, -6.181700229644775, -6.193699836730957, -6.126100063323975, -6.199699878692627, -6.22629976272583, -6.243599891662598, -6.295499801635742, -6.30649995803833, -6.310200214385986, -6.337600231170654, -3.897700071334839, -5.859300136566162, -4.635799884796143, -4.441400051116943, -4.730899810791016, -4.136499881744385, -4.53849983215332, -4.12939977645874, -5.125999927520752, -4.4120001792907715, -5.348899841308594, -4.825099945068359, -3.3022000789642334, -5.334099769592285, -4.707200050354004, -5.313199996948242, -3.8733999729156494, -4.746099948883057, -5.525899887084961, -4.321899890899658, -4.473299980163574, -4.771599769592285, -4.691400051116943, -4.7052001953125, -4.757900238037109, -5.143700122833252, -5.066500186920166, -4.998799800872803, -5.262199878692627]}, \"token.table\": {\"Topic\": [1, 2, 3, 2, 3, 3, 6, 1, 2, 6, 4, 2, 6, 1, 3, 4, 5, 6, 7, 7, 7, 1, 2, 4, 5, 7, 2, 7, 4, 3, 5, 4, 2, 3, 7, 2, 5, 4, 7, 6, 4, 5, 6, 5, 2, 1, 6, 1, 3, 6, 1, 2, 7, 4, 1, 3, 3, 7, 7, 1, 4, 5, 7, 4, 4, 3, 5, 2, 3, 6, 1, 2, 4, 6, 7, 1, 4, 5, 6, 7, 4, 1, 2, 6, 4, 4, 1, 2, 3, 5, 6, 3, 4, 6, 1, 5, 4, 2, 7, 1, 1, 1, 2, 3, 6, 7, 1, 7, 7, 6, 1, 2, 4, 7, 4, 7, 3, 1, 2, 3, 6, 3, 4, 2, 5, 5, 3, 2, 6, 1, 2, 3, 4, 5, 6, 7, 4, 2, 4, 3, 1, 1, 6, 3, 6, 1, 5, 7, 4, 6, 2, 7, 4, 5, 1, 7, 7, 1, 1, 2, 3, 4, 5, 6, 7, 1, 2, 3, 4, 5, 6, 7, 6, 7, 1, 1, 6, 1, 7, 2, 5, 3, 1, 3, 5, 6, 1, 2, 3, 4, 5, 6, 4, 7, 6, 2, 3, 2, 7, 2, 7, 1, 2, 3, 4, 5, 6, 7, 1, 2, 3, 4, 5, 6, 7, 1, 7, 3, 3, 3, 1, 3, 5, 7, 4, 7, 1, 2, 3, 4, 5, 7, 5, 3, 5, 3, 5, 3, 3, 2, 6, 2, 2, 4, 6, 2, 5, 2, 4, 5, 1, 7, 6, 4, 5, 5, 1, 2, 3, 5, 7, 4, 3, 5, 3, 4, 7, 1, 2, 6, 4, 1, 3, 4, 5, 1, 2, 3, 4, 6, 7, 5, 3, 6, 1, 3, 7, 5, 4, 7, 4, 6, 2, 1, 1, 7, 1, 2, 3, 4, 5, 6, 7, 5, 2, 1, 2, 3, 4, 5, 6, 7, 4, 6, 6, 5, 3, 1, 7, 4, 1, 1, 6, 6, 1, 3, 4, 5, 6, 1, 2, 5, 6, 7, 1, 2, 3, 4, 5, 7, 4, 5, 7, 1, 3, 5, 6, 2, 6, 6, 1, 2, 4, 6, 7, 1, 2, 3, 4, 1, 2, 7, 3, 4, 7, 1, 7, 1, 4, 5, 7, 1, 2, 3, 5, 6, 7, 7, 4, 2, 1, 2, 3, 5, 6, 2, 3, 5, 7, 5, 2, 3, 4, 6, 7, 7, 4, 4, 6, 3, 1, 2, 4, 6, 7, 1, 2, 3, 4, 5, 6, 7, 1, 2, 3, 4, 5, 6, 7, 7, 4, 5, 6, 7, 4, 6, 1, 2, 3, 4, 5, 1, 2, 6, 5, 4, 2, 4, 6, 1, 4, 6, 7, 1, 2, 3, 4, 5, 6, 7, 5, 1, 5, 5, 2, 6, 1, 2, 4, 1, 7, 1, 6, 3, 5, 1, 3, 6, 7, 1, 4, 5, 6, 3, 7, 1, 7, 2, 1, 2, 3, 4, 5, 2, 1, 2, 3, 4, 5, 1, 3, 4, 5, 6, 7, 1, 2, 1, 1, 5, 6, 4, 5, 1, 1, 7, 1, 5, 2, 5, 7, 3, 1, 2, 3, 5, 5, 3, 5, 1, 5, 1, 3, 6, 7, 3, 5, 7, 1, 5, 7, 7, 4, 5, 3, 4, 6, 7, 3, 5, 6, 3, 5, 7, 3, 3, 2, 1, 2, 1, 2, 3, 4, 5, 6, 5, 1, 2, 3, 4, 5, 6, 7, 3, 2, 3, 5, 6, 1, 2, 3, 4, 5, 6, 7, 1, 1, 2, 5, 6, 3, 4, 5, 6, 2, 7, 3, 4, 4, 1, 2, 3, 4, 5, 6, 7, 3, 6, 1, 2, 3, 4, 5, 6, 7, 5, 7, 4, 6, 3, 4, 1, 1, 1, 3, 3, 7, 1, 2, 3, 4, 5, 6, 7, 3, 5, 6, 1, 2, 3, 4, 5, 6, 7, 1, 5, 1, 4, 7, 1, 2, 2, 1, 2, 7, 2, 3, 4, 5, 1, 2, 3, 4, 5, 6, 7, 1, 2, 3, 4, 6, 7, 5, 5, 1, 2, 3, 4, 6, 7, 6], \"Freq\": [0.9948152303695679, 0.9870135188102722, 0.998214066028595, 0.9934983253479004, 0.997225284576416, 0.627907931804657, 0.3710780441761017, 0.07987592369318008, 0.8478496670722961, 0.07155551761388779, 0.9977759122848511, 0.9909348487854004, 0.9993370771408081, 0.0346175841987133, 0.1158357709646225, 0.07722384482622147, 0.02662891149520874, 0.12915022671222687, 0.616459310054779, 0.9981975555419922, 0.9979317784309387, 0.28488361835479736, 0.08415023237466812, 0.06398924440145493, 0.27173513174057007, 0.2954023778438568, 0.997926652431488, 0.9923512935638428, 0.9987035989761353, 0.9987638592720032, 0.9980648756027222, 0.9996160268783569, 0.051547516137361526, 0.1698532998561859, 0.7782829999923706, 0.9996681809425354, 0.9991777539253235, 0.7416706681251526, 0.2571922540664673, 0.996666431427002, 0.08917174488306046, 0.8751273155212402, 0.03318018466234207, 0.9985544681549072, 0.9990237951278687, 0.9005359411239624, 0.09910789877176285, 0.19931535422801971, 0.6382570266723633, 0.1634833812713623, 0.22281087934970856, 0.6272611021995544, 0.15015515685081482, 0.9992043375968933, 0.9852860569953918, 0.013497069478034973, 0.9976838231086731, 0.9979835152626038, 0.9935628175735474, 0.996449887752533, 0.9993508458137512, 0.8827411532402039, 0.11461003869771957, 0.9987307190895081, 0.9987033009529114, 0.9939199686050415, 0.9980556964874268, 0.07953381538391113, 0.5807818174362183, 0.34033074975013733, 0.4807432293891907, 0.0732814371585846, 0.17028094828128815, 0.14826461672782898, 0.12752458453178406, 0.8653033971786499, 0.025154167786240578, 0.05533916875720024, 0.0528237521648407, 0.9931044578552246, 0.9964143633842468, 0.9957091212272644, 0.1386517435312271, 0.8608464598655701, 0.9992266893386841, 0.9994233250617981, 0.12441830337047577, 0.5374179482460022, 0.1771232783794403, 0.062209151685237885, 0.09763380885124207, 0.23425590991973877, 0.05487075448036194, 0.7090989947319031, 0.9976540207862854, 0.9979625344276428, 0.9991381764411926, 0.9849235415458679, 0.9984955191612244, 0.9998852610588074, 0.9982505440711975, 0.997836709022522, 0.37278205156326294, 0.023068197071552277, 0.12364552915096283, 0.4807412028312683, 0.9991939663887024, 0.9992510676383972, 0.9930837750434875, 0.9988840818405151, 0.2990212142467499, 0.039398062974214554, 0.39398065209388733, 0.266694575548172, 0.996187150478363, 0.9984217286109924, 0.99659264087677, 0.9973450303077698, 0.1062067300081253, 0.8934851884841919, 0.9972638487815857, 0.2811438739299774, 0.7174016237258911, 0.07447553426027298, 0.9237579703330994, 0.9951304793357849, 0.9946656227111816, 0.9963940382003784, 0.9988600015640259, 0.2000528872013092, 0.2676864266395569, 0.019222164526581764, 0.3132500648498535, 0.012814776040613651, 0.0726170614361763, 0.11462105065584183, 0.9924573302268982, 0.989348292350769, 0.9993679523468018, 0.991590142250061, 0.9984460473060608, 0.8969878554344177, 0.10001257807016373, 0.9975402355194092, 0.9946956038475037, 0.08245041221380234, 0.8245041370391846, 0.09215045720338821, 0.05944010615348816, 0.9385279417037964, 0.9906389117240906, 0.997249960899353, 0.9263038635253906, 0.07200948894023895, 0.9389598965644836, 0.060983993113040924, 0.992490828037262, 0.9981899857521057, 0.09616181254386902, 0.20167270302772522, 0.1495850533246994, 0.0422043539583683, 0.3330938518047333, 0.03579356521368027, 0.14130444824695587, 0.09759155660867691, 0.1424836665391922, 0.4694153666496277, 0.013662817887961864, 0.20396634936332703, 0.029277466237545013, 0.04489211365580559, 0.9995124936103821, 0.9937318563461304, 0.9964544177055359, 0.9981658458709717, 0.9993720054626465, 0.15536236763000488, 0.8439283967018127, 0.3740062415599823, 0.6257306337356567, 0.9963983297348022, 0.1465507298707962, 0.02931014634668827, 0.8206840753555298, 0.9983555674552917, 0.03320833295583725, 0.11978720128536224, 0.09013690054416656, 0.05930059403181076, 0.6973749995231628, 0.9982680678367615, 0.9991686940193176, 0.9932219982147217, 0.9994929432868958, 0.9908650517463684, 0.9996414184570312, 0.9947651624679565, 0.9911460876464844, 0.9872822165489197, 0.9951583743095398, 0.26523512601852417, 0.31918126344680786, 0.12556426227092743, 0.054411180317401886, 0.07006796449422836, 0.04681532084941864, 0.11858847737312317, 0.283096045255661, 0.2304501086473465, 0.057612527161836624, 0.10290789604187012, 0.19985587894916534, 0.02781294472515583, 0.09833862632513046, 0.9984426498413086, 0.997765064239502, 0.9978986978530884, 0.9983822107315063, 0.9946445226669312, 0.4706614017486572, 0.19141334295272827, 0.17649802565574646, 0.16158269345760345, 0.3540118932723999, 0.6444831490516663, 0.09069716185331345, 0.1307726502418518, 0.2889653742313385, 0.012655418366193771, 0.4650866389274597, 0.012655418366193771, 0.9883779287338257, 0.9956725239753723, 0.9978851675987244, 0.14233265817165375, 0.8576929569244385, 0.999504804611206, 0.9950152635574341, 0.9978476762771606, 0.9957753419876099, 0.9968563318252563, 0.04089634120464325, 0.03127367049455643, 0.9285874962806702, 0.4164946675300598, 0.5832552313804626, 0.6128012537956238, 0.04868831858038902, 0.33746039867401123, 0.8750355839729309, 0.12298887223005295, 0.9980859756469727, 0.9979918003082275, 0.999584436416626, 0.9996576905250549, 0.5018050670623779, 0.1867559403181076, 0.1245039626955986, 0.07795030623674393, 0.10880563408136368, 0.9966328144073486, 0.18158695101737976, 0.815991997718811, 0.253733366727829, 0.09532524645328522, 0.6504546403884888, 0.9973528385162354, 0.9899337291717529, 0.9978525638580322, 0.9957529902458191, 0.35562941431999207, 0.2239440232515335, 0.08200766891241074, 0.33828163146972656, 0.18036186695098877, 0.4537228047847748, 0.0965217798948288, 0.085249163210392, 0.021136155351996422, 0.16274839639663696, 0.996151864528656, 0.6929733157157898, 0.30490824580192566, 0.9997841715812683, 0.9949195384979248, 0.9931674599647522, 0.9949157238006592, 0.9397924542427063, 0.0600750632584095, 0.9958183765411377, 0.9981817007064819, 0.9977768659591675, 0.9976925849914551, 0.3127926290035248, 0.6851648092269897, 0.22913436591625214, 0.16146256029605865, 0.15710939466953278, 0.11713950335979462, 0.24733847379684448, 0.0316593237221241, 0.05619530379772186, 0.9989134073257446, 0.9936994314193726, 0.37935590744018555, 0.12979431450366974, 0.06517568230628967, 0.11252553761005402, 0.12255256623029709, 0.08745796978473663, 0.10305556654930115, 0.27354809641838074, 0.7266121506690979, 0.9983353614807129, 0.9992654323577881, 0.9918686747550964, 0.08793959021568298, 0.9103375673294067, 0.9972495436668396, 0.9947909116744995, 0.9997185468673706, 0.9983709454536438, 0.9986883401870728, 0.9952995181083679, 0.998140811920166, 0.19513705372810364, 0.803848147392273, 0.9958081841468811, 0.2242973893880844, 0.3768559396266937, 0.021340034902095795, 0.15573684871196747, 0.2215731292963028, 0.24515487253665924, 0.1143493503332138, 0.17004719376564026, 0.10633223503828049, 0.26498669385910034, 0.09873707592487335, 0.8979778289794922, 0.04477451741695404, 0.05721188336610794, 0.19719956815242767, 0.7983402013778687, 0.9984630942344666, 0.9947146773338318, 0.8176769614219666, 0.18145078420639038, 0.9993818998336792, 0.17998634278774261, 0.49597522616386414, 0.07755038142204285, 0.10648709535598755, 0.1400536745786667, 0.1370098888874054, 0.6951643228530884, 0.0965505987405777, 0.07080376893281937, 0.008574875071644783, 0.8960744738578796, 0.09217990934848785, 0.9959486126899719, 0.9959964156150818, 0.9995722770690918, 0.06698250770568848, 0.9329706430435181, 0.12050705403089523, 0.6507381200790405, 0.1256716400384903, 0.10329176485538483, 0.12038303911685944, 0.5578213930130005, 0.04199408367276192, 0.11198422312736511, 0.1273820549249649, 0.039894379675388336, 0.9934514760971069, 0.9990875124931335, 0.9975172877311707, 0.04625709727406502, 0.11664833873510361, 0.20212340354919434, 0.6093869805335999, 0.02513972856104374, 0.10358576476573944, 0.2185479998588562, 0.37781861424446106, 0.2999795973300934, 0.997421145439148, 0.9940230250358582, 0.5260414481163025, 0.2907542288303375, 0.18250417709350586, 0.9988399744033813, 0.9942947626113892, 0.998998761177063, 0.9470260143280029, 0.05272103473544121, 0.9993126392364502, 0.1389765590429306, 0.7385611534118652, 0.0661793127655983, 0.0564730130136013, 0.9937900900840759, 0.03587774187326431, 0.2078201323747635, 0.1211719959974289, 0.14080321788787842, 0.15908055007457733, 0.31545335054397583, 0.019631218165159225, 0.3448462188243866, 0.18583033978939056, 0.04973144084215164, 0.01995493657886982, 0.015277997590601444, 0.053628887981176376, 0.3308154046535492, 0.9958207011222839, 0.01995992846786976, 0.22205419838428497, 0.0623747780919075, 0.6936075091362, 0.9984066486358643, 0.998033344745636, 0.16542938351631165, 0.5231831073760986, 0.20145848393440247, 0.02131298929452896, 0.08829666674137115, 0.08831224590539932, 0.9103953838348389, 0.9970730543136597, 0.9967504143714905, 0.9917134642601013, 0.8061202168464661, 0.10303791612386703, 0.09091581404209137, 0.153557687997818, 0.019974984228610992, 0.05742808058857918, 0.7690368890762329, 0.19508112967014313, 0.487342894077301, 0.050389960408210754, 0.10077992081642151, 0.0208758395165205, 0.07630479335784912, 0.06982608884572983, 0.9973200559616089, 0.9955821633338928, 0.9959514737129211, 0.9969074726104736, 0.9941800236701965, 0.9967318177223206, 0.998451828956604, 0.988998293876648, 0.9947081804275513, 0.23643356561660767, 0.7621505260467529, 0.18563812971115112, 0.8134325742721558, 0.1650265008211136, 0.8338181376457214, 0.11589539796113968, 0.7790746092796326, 0.10623744875192642, 0.9969903826713562, 0.4115578532218933, 0.05447089299559593, 0.5326042771339417, 0.9974871277809143, 0.9979628920555115, 0.9897361993789673, 0.14891494810581207, 0.8516595959663391, 0.9967759847640991, 0.0958215668797493, 0.35635602474212646, 0.1252569556236267, 0.05573934316635132, 0.3670028746128082, 0.992294430732727, 0.29309985041618347, 0.18701812624931335, 0.11315383017063141, 0.07307851314544678, 0.3331751525402069, 0.254474014043808, 0.19782105088233948, 0.17553135752677917, 0.3208787441253662, 0.021360957995057106, 0.02971959486603737, 0.9978676438331604, 0.9992435574531555, 0.9980905652046204, 0.8712570071220398, 0.12872381508350372, 0.9961243867874146, 0.99754399061203, 0.9924548864364624, 0.9946944713592529, 0.758770227432251, 0.24128258228302002, 0.9970274567604065, 0.9971035718917847, 0.9973128437995911, 0.2589649558067322, 0.7402081489562988, 0.9983448386192322, 0.13316920399665833, 0.603969395160675, 0.17083321511745453, 0.09146974980831146, 0.9909704923629761, 0.151651531457901, 0.8481252193450928, 0.052210766822099686, 0.945289671421051, 0.5182250142097473, 0.07008025795221329, 0.13554996252059937, 0.27571046352386475, 0.18238909542560577, 0.8148291707038879, 0.9947582483291626, 0.30289289355278015, 0.12701959908008575, 0.5699597597122192, 0.9965559244155884, 0.8704926371574402, 0.12481328845024109, 0.19421128928661346, 0.15359194576740265, 0.5394757986068726, 0.11170323193073273, 0.9977347254753113, 0.9973614811897278, 0.9989962577819824, 0.28532758355140686, 0.5451794862747192, 0.1681394726037979, 0.9973280429840088, 0.994434118270874, 0.9945992231369019, 0.13805273175239563, 0.8589947819709778, 0.2316688746213913, 0.13514018058776855, 0.16002312302589417, 0.1553039401769638, 0.20850197970867157, 0.10939919203519821, 0.9972734451293945, 0.20419014990329742, 0.20979028940200806, 0.1369883269071579, 0.13160356879234314, 0.06763260066509247, 0.10834139585494995, 0.14172691106796265, 0.9998540282249451, 0.14389191567897797, 0.3765171766281128, 0.1239069253206253, 0.35493338108062744, 0.12916359305381775, 0.09846077859401703, 0.13339847326278687, 0.027526667341589928, 0.43407437205314636, 0.09634333848953247, 0.08258000761270523, 0.998117983341217, 0.999872088432312, 0.9960019588470459, 0.9997092485427856, 0.9956873655319214, 0.2985280752182007, 0.21108044683933258, 0.04673924297094345, 0.4447766840457916, 0.01781197264790535, 0.9796584844589233, 0.18146276473999023, 0.8178603053092957, 0.9991824626922607, 0.3032568395137787, 0.022956611588597298, 0.19995209574699402, 0.14210142195224762, 0.11616045981645584, 0.09572907537221909, 0.11983351409435272, 0.8037047386169434, 0.19554859399795532, 0.1743561178445816, 0.15678875148296356, 0.0070269471034407616, 0.19016675651073456, 0.07949233800172806, 0.3030371069908142, 0.08871521055698395, 0.9941463470458984, 0.9963582158088684, 0.9916139841079712, 0.9931648969650269, 0.9973095059394836, 0.9972332119941711, 0.9997649788856506, 0.9970153570175171, 0.7366625666618347, 0.26284852623939514, 0.9990938305854797, 0.9995091557502747, 0.2298728972673416, 0.10880650579929352, 0.1808333545923233, 0.16601932048797607, 0.18849578499794006, 0.06845103949308395, 0.05772364139556885, 0.10315275192260742, 0.8535889983177185, 0.043839916586875916, 0.2748866677284241, 0.34216660261154175, 0.062474239617586136, 0.037965115159749985, 0.10524506121873856, 0.09707535803318024, 0.08025536686182022, 0.6143154501914978, 0.38495901226997375, 0.08747664839029312, 0.6123365163803101, 0.2997533082962036, 0.5825012922286987, 0.41643181443214417, 0.999043345451355, 0.8070666790008545, 0.08614756911993027, 0.10655093938112259, 0.9995250701904297, 0.5225393176078796, 0.47634801268577576, 0.9951844215393066, 0.17412550747394562, 0.2451467663049698, 0.11434698104858398, 0.10721743851900101, 0.18673932552337646, 0.06581121683120728, 0.10666900873184204, 0.1760050505399704, 0.5789081454277039, 0.020145155489444733, 0.04347112402319908, 0.1293531060218811, 0.05195329710841179, 0.9983459711074829, 0.9961065649986267, 0.17792093753814697, 0.40212681889533997, 0.03651838004589081, 0.11592462658882141, 0.11295219510793686, 0.15456616878509521, 0.9969855546951294], \"Term\": [\"absorbent\", \"accord\", \"accurate\", \"acdelco\", \"adhesive\", \"air\", \"air\", \"amazon\", \"amazon\", \"amazon\", \"amp\", \"anco\", \"app\", \"application\", \"application\", \"application\", \"application\", \"application\", \"application\", \"applicator\", \"apply\", \"area\", \"area\", \"area\", \"area\", \"area\", \"arm\", \"armor\", \"automatic\", \"bag\", \"bamboo\", \"battery\", \"black\", \"black\", \"black\", \"blade\", \"block\", \"blue\", \"blue\", \"bluetooth\", \"board\", \"board\", \"board\", \"bolt\", \"bosch\", \"bottle\", \"bottle\", \"brake\", \"brake\", \"brake\", \"brand\", \"brand\", \"brand\", \"bright\", \"brush\", \"brush\", \"bucket\", \"buff\", \"buffer\", \"bug\", \"bulb\", \"bumper\", \"bumper\", \"button\", \"cable\", \"camco\", \"camper\", \"cap\", \"cap\", \"cap\", \"car\", \"car\", \"car\", \"car\", \"car\", \"care\", \"care\", \"care\", \"care\", \"carnauba\", \"cell\", \"chamois\", \"change\", \"change\", \"charge\", \"charger\", \"cheap\", \"cheap\", \"cheap\", \"cheap\", \"cheap\", \"check\", \"check\", \"check\", \"chemical\", \"chock\", \"cigarette\", \"city\", \"clay\", \"clean\", \"cleaner\", \"cleaning\", \"clear\", \"clear\", \"clear\", \"clear\", \"cloth\", \"coat\", \"coating\", \"code\", \"color\", \"color\", \"color\", \"color\", \"compact\", \"compound\", \"compressor\", \"conditioner\", \"connector\", \"connector\", \"coolant\", \"cord\", \"cord\", \"cover\", \"cover\", \"crack\", \"crash\", \"cutting\", \"datum\", \"day\", \"day\", \"day\", \"day\", \"day\", \"day\", \"day\", \"dead\", \"delivery\", \"device\", \"digital\", \"dirt\", \"dirty\", \"dirty\", \"dish\", \"display\", \"door\", \"door\", \"door\", \"drain\", \"drain\", \"draw\", \"drill\", \"driving\", \"driving\", \"dry\", \"dry\", \"dull\", \"dust\", \"easy\", \"easy\", \"easy\", \"easy\", \"easy\", \"easy\", \"easy\", \"end\", \"end\", \"end\", \"end\", \"end\", \"end\", \"end\", \"engine\", \"exterior\", \"fiber\", \"film\", \"filter\", \"finish\", \"finish\", \"fit\", \"fit\", \"fitting\", \"floor\", \"floor\", \"floor\", \"fluid\", \"front\", \"front\", \"front\", \"front\", \"front\", \"fuel\", \"fuse\", \"gap\", \"gas\", \"gasket\", \"gauge\", \"gear\", \"gel\", \"gift\", \"gloss\", \"good\", \"good\", \"good\", \"good\", \"good\", \"good\", \"good\", \"great\", \"great\", \"great\", \"great\", \"great\", \"great\", \"great\", \"griot\", \"grit\", \"guard\", \"gun\", \"habit\", \"hand\", \"hand\", \"hand\", \"hand\", \"headlight\", \"headlight\", \"heavy\", \"heavy\", \"heavy\", \"heavy\", \"heavy\", \"heavy\", \"height\", \"helmet\", \"hitch\", \"hole\", \"hole\", \"hose\", \"housing\", \"icon\", \"indicator\", \"info\", \"information\", \"information\", \"information\", \"install\", \"install\", \"installation\", \"installation\", \"installation\", \"interior\", \"interior\", \"inverter\", \"iphone\", \"jack\", \"jeep\", \"job\", \"job\", \"job\", \"job\", \"job\", \"jump\", \"key\", \"key\", \"kit\", \"kit\", \"kit\", \"kitchen\", \"label\", \"lamp\", \"laptop\", \"large\", \"large\", \"large\", \"large\", \"last\", \"last\", \"last\", \"last\", \"last\", \"last\", \"latch\", \"leak\", \"leak\", \"leather\", \"led\", \"leg\", \"license\", \"light\", \"light\", \"lighting\", \"limited\", \"link\", \"lint\", \"liquid\", \"liquid\", \"little\", \"little\", \"little\", \"little\", \"little\", \"little\", \"little\", \"lock\", \"logo\", \"lot\", \"lot\", \"lot\", \"lot\", \"lot\", \"lot\", \"lot\", \"manual\", \"manual\", \"map\", \"mat\", \"measure\", \"meguiar\", \"meguiar\", \"meter\", \"micro\", \"microfiber\", \"mile\", \"mileage\", \"mitt\", \"mode\", \"mount\", \"mount\", \"mpg\", \"new\", \"new\", \"new\", \"new\", \"new\", \"nice\", \"nice\", \"nice\", \"nice\", \"nice\", \"nice\", \"night\", \"night\", \"night\", \"nozzle\", \"nozzle\", \"nut\", \"obd\", \"oem\", \"oem\", \"oil\", \"old\", \"old\", \"old\", \"old\", \"old\", \"one\", \"one\", \"one\", \"one\", \"original\", \"original\", \"original\", \"outlet\", \"output\", \"pad\", \"paint\", \"paint\", \"panel\", \"panel\", \"panel\", \"panel\", \"part\", \"part\", \"part\", \"part\", \"part\", \"part\", \"paste\", \"phone\", \"pink\", \"place\", \"place\", \"place\", \"place\", \"place\", \"plastic\", \"plastic\", \"plastic\", \"plastic\", \"plate\", \"play\", \"plug\", \"plug\", \"plug\", \"polish\", \"polisher\", \"port\", \"power\", \"power\", \"pressure\", \"price\", \"price\", \"price\", \"price\", \"privacy\", \"problem\", \"problem\", \"problem\", \"problem\", \"problem\", \"problem\", \"problem\", \"product\", \"product\", \"product\", \"product\", \"product\", \"product\", \"product\", \"protectant\", \"protection\", \"protection\", \"protection\", \"protection\", \"psi\", \"pump\", \"quality\", \"quality\", \"quality\", \"quality\", \"quality\", \"rain\", \"rain\", \"ramp\", \"receiver\", \"remote\", \"replacement\", \"replacement\", \"replacement\", \"result\", \"result\", \"result\", \"result\", \"review\", \"review\", \"review\", \"review\", \"review\", \"review\", \"review\", \"rim\", \"rinse\", \"rugged\", \"rust\", \"scan\", \"scanner\", \"scent\", \"score\", \"scraper\", \"scratch\", \"scratch\", \"screen\", \"screen\", \"screw\", \"screw\", \"seal\", \"seal\", \"seal\", \"sealant\", \"seat\", \"seat\", \"seat\", \"sensor\", \"sewer\", \"shade\", \"shine\", \"shine\", \"shipping\", \"side\", \"side\", \"side\", \"side\", \"side\", \"signal\", \"size\", \"size\", \"size\", \"size\", \"size\", \"small\", \"small\", \"small\", \"small\", \"small\", \"small\", \"smell\", \"snow\", \"soap\", \"soft\", \"soft\", \"software\", \"solar\", \"speaker\", \"sponge\", \"spray\", \"spray\", \"stain\", \"stand\", \"stem\", \"step\", \"step\", \"storage\", \"store\", \"store\", \"store\", \"store\", \"stove\", \"strap\", \"strap\", \"strip\", \"strip\", \"stuff\", \"stuff\", \"stuff\", \"stuff\", \"sturdy\", \"sturdy\", \"sunlight\", \"surface\", \"surface\", \"surface\", \"swirl\", \"switch\", \"switch\", \"system\", \"system\", \"system\", \"system\", \"tablet\", \"tailgate\", \"tank\", \"tape\", \"tape\", \"tape\", \"tender\", \"terminal\", \"terrible\", \"thank\", \"thank\", \"thing\", \"thing\", \"thing\", \"thing\", \"thing\", \"thing\", \"tie\", \"time\", \"time\", \"time\", \"time\", \"time\", \"time\", \"time\", \"tire\", \"tool\", \"tool\", \"tool\", \"tool\", \"top\", \"top\", \"top\", \"top\", \"top\", \"top\", \"top\", \"torque\", \"towel\", \"toy\", \"trailer\", \"transmission\", \"trip\", \"trip\", \"trip\", \"trip\", \"ultimate\", \"ultimate\", \"unit\", \"unit\", \"usb\", \"use\", \"use\", \"use\", \"use\", \"use\", \"use\", \"use\", \"valve\", \"valve\", \"vehicle\", \"vehicle\", \"vehicle\", \"vehicle\", \"vehicle\", \"vehicle\", \"vehicle\", \"vent\", \"vinyl\", \"vision\", \"visor\", \"volt\", \"voltage\", \"wash\", \"washing\", \"water\", \"water\", \"watt\", \"wax\", \"way\", \"way\", \"way\", \"way\", \"way\", \"way\", \"way\", \"weight\", \"weight\", \"weight\", \"well\", \"well\", \"well\", \"well\", \"well\", \"well\", \"well\", \"wheel\", \"wheel\", \"white\", \"white\", \"white\", \"window\", \"window\", \"windshield\", \"wipe\", \"wipe\", \"wipe\", \"wiper\", \"wire\", \"wire\", \"wood\", \"work\", \"work\", \"work\", \"work\", \"work\", \"work\", \"work\", \"worth\", \"worth\", \"worth\", \"worth\", \"worth\", \"worth\", \"wrangler\", \"wrench\", \"year\", \"year\", \"year\", \"year\", \"year\", \"year\", \"zubie\"]}, \"R\": 30, \"lambda.step\": 0.01, \"plot.opts\": {\"xlab\": \"PC1\", \"ylab\": \"PC2\"}, \"topic.order\": [5, 6, 2, 3, 7, 1, 4]};\n",
       "\n",
       "function LDAvis_load_lib(url, callback){\n",
       "  var s = document.createElement('script');\n",
       "  s.src = url;\n",
       "  s.async = true;\n",
       "  s.onreadystatechange = s.onload = callback;\n",
       "  s.onerror = function(){console.warn(\"failed to load library \" + url);};\n",
       "  document.getElementsByTagName(\"head\")[0].appendChild(s);\n",
       "}\n",
       "\n",
       "if(typeof(LDAvis) !== \"undefined\"){\n",
       "   // already loaded: just create the visualization\n",
       "   !function(LDAvis){\n",
       "       new LDAvis(\"#\" + \"ldavis_el780022346606637284437903543\", ldavis_el780022346606637284437903543_data);\n",
       "   }(LDAvis);\n",
       "}else if(typeof define === \"function\" && define.amd){\n",
       "   // require.js is available: use it to load d3/LDAvis\n",
       "   require.config({paths: {d3: \"https://cdnjs.cloudflare.com/ajax/libs/d3/3.5.5/d3.min\"}});\n",
       "   require([\"d3\"], function(d3){\n",
       "      window.d3 = d3;\n",
       "      LDAvis_load_lib(\"https://cdn.rawgit.com/bmabey/pyLDAvis/files/ldavis.v1.0.0.js\", function(){\n",
       "        new LDAvis(\"#\" + \"ldavis_el780022346606637284437903543\", ldavis_el780022346606637284437903543_data);\n",
       "      });\n",
       "    });\n",
       "}else{\n",
       "    // require.js not available: dynamically load d3 & LDAvis\n",
       "    LDAvis_load_lib(\"https://cdnjs.cloudflare.com/ajax/libs/d3/3.5.5/d3.min.js\", function(){\n",
       "         LDAvis_load_lib(\"https://cdn.rawgit.com/bmabey/pyLDAvis/files/ldavis.v1.0.0.js\", function(){\n",
       "                 new LDAvis(\"#\" + \"ldavis_el780022346606637284437903543\", ldavis_el780022346606637284437903543_data);\n",
       "            })\n",
       "         });\n",
       "}\n",
       "</script>"
      ],
      "text/plain": [
       "PreparedData(topic_coordinates=              x         y  topics  cluster       Freq\n",
       "topic                                                \n",
       "4     -0.049503  0.104053       1        1  18.699810\n",
       "5     -0.023546 -0.011258       2        1  16.815130\n",
       "1      0.170156 -0.101652       3        1  14.175553\n",
       "2     -0.065299 -0.075263       4        1  14.071290\n",
       "6      0.249973  0.020373       5        1  13.180696\n",
       "0     -0.189296 -0.186664       6        1  12.546910\n",
       "3     -0.092486  0.250409       7        1  10.510602, topic_info=     Category         Freq         Term        Total  loglift  logprob\n",
       "term                                                                  \n",
       "152   Default  4577.000000        light  4577.000000  30.0000  30.0000\n",
       "38    Default  2982.000000      battery  2982.000000  29.0000  29.0000\n",
       "525   Default  2084.000000          wax  2084.000000  28.0000  28.0000\n",
       "529   Default  2617.000000        towel  2617.000000  27.0000  27.0000\n",
       "335   Default  2189.000000         tire  2189.000000  26.0000  26.0000\n",
       "3     Default  9402.000000          car  9402.000000  25.0000  25.0000\n",
       "939   Default  2266.000000        wiper  2266.000000  24.0000  24.0000\n",
       "966   Default  2256.000000        blade  2256.000000  23.0000  23.0000\n",
       "97    Default  2359.000000        clean  2359.000000  22.0000  22.0000\n",
       "170   Default  1784.000000          oil  1784.000000  21.0000  21.0000\n",
       "316   Default  6414.000000      product  6414.000000  20.0000  20.0000\n",
       "2596  Default  1578.000000         bulb  1578.000000  19.0000  19.0000\n",
       "524   Default  2621.000000        water  2621.000000  18.0000  18.0000\n",
       "728   Default  1468.000000         hose  1468.000000  17.0000  17.0000\n",
       "978   Default  1315.000000       filter  1315.000000  16.0000  16.0000\n",
       "63    Default  1536.000000        power  1536.000000  15.0000  15.0000\n",
       "648   Default  1254.000000        paint  1254.000000  14.0000  14.0000\n",
       "1326  Default  1530.000000      leather  1530.000000  13.0000  13.0000\n",
       "48    Default  1815.000000          fit  1815.000000  12.0000  12.0000\n",
       "120   Default  1120.000000       engine  1120.000000  11.0000  11.0000\n",
       "762   Default  1150.000000       device  1150.000000  10.0000  10.0000\n",
       "1283  Default  1114.000000       bright  1114.000000   9.0000   9.0000\n",
       "18    Default  2266.000000        price  2266.000000   8.0000   8.0000\n",
       "710   Default   922.000000          pad   922.000000   7.0000   7.0000\n",
       "523   Default  1223.000000         wash  1223.000000   6.0000   6.0000\n",
       "1567  Default  1426.000000          kit  1426.000000   5.0000   5.0000\n",
       "530   Default  1183.000000        black  1183.000000   4.0000   4.0000\n",
       "1115  Default   981.000000     pressure   981.000000   3.0000   3.0000\n",
       "938   Default  1016.000000   windshield  1016.000000   2.0000   2.0000\n",
       "726   Default   849.000000         code   849.000000   1.0000   1.0000\n",
       "...       ...          ...          ...          ...      ...      ...\n",
       "447    Topic7   101.978638      coating   102.710365   2.2456  -6.3376\n",
       "648    Topic7  1169.872314        paint  1254.058716   2.1833  -3.8977\n",
       "1758   Topic7   164.536133     ultimate   168.426041   2.2294  -5.8593\n",
       "1319   Topic7   559.254211      meguiar   614.057922   2.1593  -4.6358\n",
       "564    Topic7   679.241272       finish   804.570618   2.0835  -4.4414\n",
       "596    Topic7   508.535522        shine   597.656616   2.0913  -4.7309\n",
       "530    Topic7   921.410645        black  1183.374146   2.0026  -4.1365\n",
       "547    Topic7   616.402893       result   801.001892   1.9908  -4.5385\n",
       "1567   Topic7   927.978638          kit  1426.694458   1.8227  -4.1294\n",
       "718    Topic7   342.526917         step   463.383179   1.9506  -5.1260\n",
       "199    Topic7   699.515259      surface  1228.156860   1.6899  -4.4120\n",
       "593    Topic7   274.095001      scratch   359.509033   1.9815  -5.3489\n",
       "944    Topic7   462.814880  application   751.063354   1.7686  -4.8251\n",
       "316    Topic7  2122.152100      product  6414.453125   1.1467  -3.3022\n",
       "1270   Topic7   278.178558   protection   400.803040   1.8876  -5.3341\n",
       "539    Topic7   520.712097        clear  1083.743164   1.5198  -4.7072\n",
       "2962   Topic7   284.061157    headlight   440.663177   1.8137  -5.3132\n",
       "3      Topic7  1198.643799          car  9402.108398   0.1930  -3.8734\n",
       "484    Topic7   500.834564      plastic  1670.113647   1.0484  -4.7461\n",
       "644    Topic7   229.634689       liquid   335.685669   1.8731  -5.5259\n",
       "8      Topic7   765.436279         good  6450.879883   0.1213  -4.3219\n",
       "21     Topic7   657.914001         time  4642.731445   0.2988  -4.4733\n",
       "16     Topic7   488.229034          new  2202.433105   0.7463  -4.7716\n",
       "114    Topic7   529.027344         easy  3743.689697   0.2960  -4.6914\n",
       "79     Topic7   521.741882          use  4356.043457   0.1306  -4.7052\n",
       "9      Topic7   494.959656        great  5033.627441  -0.0666  -4.7579\n",
       "610    Topic7   336.539978         area  1140.816772   1.0320  -5.1437\n",
       "273    Topic7   363.524384         year  2354.978516   0.3843  -5.0665\n",
       "220    Topic7   389.013397         work  3646.794922   0.0148  -4.9988\n",
       "198    Topic7   298.924164        stuff  1084.470947   0.9641  -5.2622\n",
       "\n",
       "[429 rows x 6 columns], token_table=       Topic      Freq         Term\n",
       "term                               \n",
       "1294       1  0.994815    absorbent\n",
       "1953       2  0.987014       accord\n",
       "1166       3  0.998214     accurate\n",
       "8086       2  0.993498      acdelco\n",
       "2096       3  0.997225     adhesive\n",
       "506        3  0.627908          air\n",
       "506        6  0.371078          air\n",
       "85         1  0.079876       amazon\n",
       "85         2  0.847850       amazon\n",
       "85         6  0.071556       amazon\n",
       "86         4  0.997776          amp\n",
       "6342       2  0.990935         anco\n",
       "6942       6  0.999337          app\n",
       "944        1  0.034618  application\n",
       "944        3  0.115836  application\n",
       "944        4  0.077224  application\n",
       "944        5  0.026629  application\n",
       "944        6  0.129150  application\n",
       "944        7  0.616459  application\n",
       "3331       7  0.998198   applicator\n",
       "975        7  0.997932        apply\n",
       "610        1  0.284884         area\n",
       "610        2  0.084150         area\n",
       "610        4  0.063989         area\n",
       "610        5  0.271735         area\n",
       "610        7  0.295402         area\n",
       "1583       2  0.997927          arm\n",
       "3208       7  0.992351        armor\n",
       "2874       4  0.998704    automatic\n",
       "37         3  0.998764          bag\n",
       "...      ...       ...          ...\n",
       "938        2  0.999043   windshield\n",
       "536        1  0.807067         wipe\n",
       "536        2  0.086148         wipe\n",
       "536        7  0.106551         wipe\n",
       "939        2  0.999525        wiper\n",
       "81         3  0.522539         wire\n",
       "81         4  0.476348         wire\n",
       "526        5  0.995184         wood\n",
       "220        1  0.174126         work\n",
       "220        2  0.245147         work\n",
       "220        3  0.114347         work\n",
       "220        4  0.107217         work\n",
       "220        5  0.186739         work\n",
       "220        6  0.065811         work\n",
       "220        7  0.106669         work\n",
       "222        1  0.176005        worth\n",
       "222        2  0.578908        worth\n",
       "222        3  0.020145        worth\n",
       "222        4  0.043471        worth\n",
       "222        6  0.129353        worth\n",
       "222        7  0.051953        worth\n",
       "890        5  0.998346     wrangler\n",
       "2609       5  0.996107       wrench\n",
       "273        1  0.177921         year\n",
       "273        2  0.402127         year\n",
       "273        3  0.036518         year\n",
       "273        4  0.115925         year\n",
       "273        6  0.112952         year\n",
       "273        7  0.154566         year\n",
       "16408      6  0.996986        zubie\n",
       "\n",
       "[671 rows x 3 columns], R=30, lambda_step=0.01, plot_opts={'xlab': 'PC1', 'ylab': 'PC2'}, topic_order=[5, 6, 2, 3, 7, 1, 4])"
      ]
     },
     "execution_count": 23,
     "metadata": {},
     "output_type": "execute_result"
    }
   ],
   "source": [
    "pyLDAvis.enable_notebook()\n",
    "vis = pyLDAvis.gensim.prepare(lda_model, doc_term_matrix, dictionary)\n",
    "vis"
   ]
  },
  {
   "cell_type": "markdown",
   "metadata": {},
   "source": [
    "**We can improve things by using TF-IDF model added to bag of word and then use that model to LDA. This might provide better solutions and more relevant topics.For an initial basice introduction, this approach is fine and suitable though**"
   ]
  }
 ],
 "metadata": {
  "kernelspec": {
   "display_name": "Python 3",
   "language": "python",
   "name": "python3"
  },
  "language_info": {
   "codemirror_mode": {
    "name": "ipython",
    "version": 3
   },
   "file_extension": ".py",
   "mimetype": "text/x-python",
   "name": "python",
   "nbconvert_exporter": "python",
   "pygments_lexer": "ipython3",
   "version": "3.6.3"
  }
 },
 "nbformat": 4,
 "nbformat_minor": 2
}
